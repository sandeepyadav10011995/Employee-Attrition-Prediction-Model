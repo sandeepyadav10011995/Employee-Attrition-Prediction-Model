{
 "cells": [
  {
   "cell_type": "markdown",
   "metadata": {},
   "source": [
    "# Data Exploration"
   ]
  },
  {
   "cell_type": "code",
   "execution_count": 1,
   "metadata": {},
   "outputs": [
    {
     "name": "stderr",
     "output_type": "stream",
     "text": [
      "C:\\Users\\SANDEEP YADAV\\Anaconda3\\lib\\site-packages\\sklearn\\cross_validation.py:44: DeprecationWarning: This module was deprecated in version 0.18 in favor of the model_selection module into which all the refactored classes and functions are moved. Also note that the interface of the new CV iterators are different from that of this module. This module will be removed in 0.20.\n",
      "  \"This module will be removed in 0.20.\", DeprecationWarning)\n"
     ]
    }
   ],
   "source": [
    "import numpy as np\n",
    "import pandas as pd\n",
    "import seaborn as sns\n",
    "import matplotlib.pyplot as plt\n",
    "%matplotlib inline\n",
    "from sklearn import preprocessing, cross_validation, svm\n",
    "from sklearn.linear_model import LogisticRegression\n",
    "from sklearn.tree import DecisionTreeClassifier\n",
    "from sklearn.ensemble import AdaBoostClassifier\n",
    "from sklearn.model_selection import train_test_split\n",
    "from sklearn.ensemble import RandomForestClassifier, GradientBoostingClassifier\n",
    "from sklearn.metrics import accuracy_score, confusion_matrix,precision_score,recall_score,f1_score\n",
    "import warnings\n",
    "warnings.filterwarnings('ignore')"
   ]
  },
  {
   "cell_type": "markdown",
   "metadata": {},
   "source": [
    "Reading The Data...."
   ]
  },
  {
   "cell_type": "code",
   "execution_count": 2,
   "metadata": {},
   "outputs": [],
   "source": [
    "data = pd.read_csv('C://Users//SANDEEP YADAV//Desktop//Major2Poject//employee_data.csv', delimiter=',')"
   ]
  },
  {
   "cell_type": "code",
   "execution_count": 3,
   "metadata": {},
   "outputs": [
    {
     "name": "stdout",
     "output_type": "stream",
     "text": [
      "(14999, 12)\n"
     ]
    }
   ],
   "source": [
    "print(data.shape)"
   ]
  },
  {
   "cell_type": "markdown",
   "metadata": {},
   "source": [
    "$ Finding Missing Values:"
   ]
  },
  {
   "cell_type": "code",
   "execution_count": 4,
   "metadata": {},
   "outputs": [
    {
     "data": {
      "text/plain": [
       "name                      1\n",
       "satisfaction_level        0\n",
       "last_evaluation           0\n",
       "number_projects           0\n",
       "average_monthly_hours     0\n",
       "time_spent_company        0\n",
       "work_accident             0\n",
       "left                      0\n",
       "promotion_last_5_years    0\n",
       "department                0\n",
       "salary                    0\n",
       "salary_level              0\n",
       "dtype: int64"
      ]
     },
     "execution_count": 4,
     "metadata": {},
     "output_type": "execute_result"
    }
   ],
   "source": [
    "data.apply(lambda x: sum(x.isnull()))"
   ]
  },
  {
   "cell_type": "code",
   "execution_count": 5,
   "metadata": {},
   "outputs": [
    {
     "data": {
      "text/html": [
       "<div>\n",
       "<style>\n",
       "    .dataframe thead tr:only-child th {\n",
       "        text-align: right;\n",
       "    }\n",
       "\n",
       "    .dataframe thead th {\n",
       "        text-align: left;\n",
       "    }\n",
       "\n",
       "    .dataframe tbody tr th {\n",
       "        vertical-align: top;\n",
       "    }\n",
       "</style>\n",
       "<table border=\"1\" class=\"dataframe\">\n",
       "  <thead>\n",
       "    <tr style=\"text-align: right;\">\n",
       "      <th></th>\n",
       "      <th>name</th>\n",
       "      <th>satisfaction_level</th>\n",
       "      <th>last_evaluation</th>\n",
       "      <th>number_projects</th>\n",
       "      <th>average_monthly_hours</th>\n",
       "      <th>time_spent_company</th>\n",
       "      <th>work_accident</th>\n",
       "      <th>left</th>\n",
       "      <th>promotion_last_5_years</th>\n",
       "      <th>department</th>\n",
       "      <th>salary</th>\n",
       "      <th>salary_level</th>\n",
       "    </tr>\n",
       "  </thead>\n",
       "  <tbody>\n",
       "    <tr>\n",
       "      <th>0</th>\n",
       "      <td>SMITH</td>\n",
       "      <td>0.38</td>\n",
       "      <td>0.53</td>\n",
       "      <td>2</td>\n",
       "      <td>157</td>\n",
       "      <td>3</td>\n",
       "      <td>0</td>\n",
       "      <td>1</td>\n",
       "      <td>0</td>\n",
       "      <td>sales</td>\n",
       "      <td>low</td>\n",
       "      <td>1</td>\n",
       "    </tr>\n",
       "    <tr>\n",
       "      <th>1</th>\n",
       "      <td>JOHNSON</td>\n",
       "      <td>0.80</td>\n",
       "      <td>0.86</td>\n",
       "      <td>5</td>\n",
       "      <td>262</td>\n",
       "      <td>6</td>\n",
       "      <td>0</td>\n",
       "      <td>1</td>\n",
       "      <td>0</td>\n",
       "      <td>sales</td>\n",
       "      <td>medium</td>\n",
       "      <td>2</td>\n",
       "    </tr>\n",
       "    <tr>\n",
       "      <th>2</th>\n",
       "      <td>WILLIAMS</td>\n",
       "      <td>0.11</td>\n",
       "      <td>0.88</td>\n",
       "      <td>7</td>\n",
       "      <td>272</td>\n",
       "      <td>4</td>\n",
       "      <td>0</td>\n",
       "      <td>1</td>\n",
       "      <td>0</td>\n",
       "      <td>sales</td>\n",
       "      <td>medium</td>\n",
       "      <td>2</td>\n",
       "    </tr>\n",
       "    <tr>\n",
       "      <th>3</th>\n",
       "      <td>BROWN</td>\n",
       "      <td>0.72</td>\n",
       "      <td>0.87</td>\n",
       "      <td>5</td>\n",
       "      <td>223</td>\n",
       "      <td>5</td>\n",
       "      <td>0</td>\n",
       "      <td>1</td>\n",
       "      <td>0</td>\n",
       "      <td>sales</td>\n",
       "      <td>low</td>\n",
       "      <td>1</td>\n",
       "    </tr>\n",
       "    <tr>\n",
       "      <th>4</th>\n",
       "      <td>JONES</td>\n",
       "      <td>0.37</td>\n",
       "      <td>0.52</td>\n",
       "      <td>2</td>\n",
       "      <td>159</td>\n",
       "      <td>3</td>\n",
       "      <td>0</td>\n",
       "      <td>1</td>\n",
       "      <td>0</td>\n",
       "      <td>sales</td>\n",
       "      <td>low</td>\n",
       "      <td>1</td>\n",
       "    </tr>\n",
       "  </tbody>\n",
       "</table>\n",
       "</div>"
      ],
      "text/plain": [
       "       name  satisfaction_level  last_evaluation  number_projects  \\\n",
       "0     SMITH                0.38             0.53                2   \n",
       "1   JOHNSON                0.80             0.86                5   \n",
       "2  WILLIAMS                0.11             0.88                7   \n",
       "3     BROWN                0.72             0.87                5   \n",
       "4     JONES                0.37             0.52                2   \n",
       "\n",
       "   average_monthly_hours  time_spent_company  work_accident  left  \\\n",
       "0                    157                   3              0     1   \n",
       "1                    262                   6              0     1   \n",
       "2                    272                   4              0     1   \n",
       "3                    223                   5              0     1   \n",
       "4                    159                   3              0     1   \n",
       "\n",
       "   promotion_last_5_years department  salary  salary_level  \n",
       "0                       0      sales     low             1  \n",
       "1                       0      sales  medium             2  \n",
       "2                       0      sales  medium             2  \n",
       "3                       0      sales     low             1  \n",
       "4                       0      sales     low             1  "
      ]
     },
     "execution_count": 5,
     "metadata": {},
     "output_type": "execute_result"
    }
   ],
   "source": [
    "data.head()"
   ]
  },
  {
   "cell_type": "markdown",
   "metadata": {},
   "source": [
    "One thing can be infered from above that salary and salary_level represents the same thing beacuse :\n",
    "\n",
    "* low=1\n",
    "* medium=2\n",
    "* high=3"
   ]
  },
  {
   "cell_type": "code",
   "execution_count": 6,
   "metadata": {},
   "outputs": [
    {
     "data": {
      "text/html": [
       "<div>\n",
       "<style>\n",
       "    .dataframe thead tr:only-child th {\n",
       "        text-align: right;\n",
       "    }\n",
       "\n",
       "    .dataframe thead th {\n",
       "        text-align: left;\n",
       "    }\n",
       "\n",
       "    .dataframe tbody tr th {\n",
       "        vertical-align: top;\n",
       "    }\n",
       "</style>\n",
       "<table border=\"1\" class=\"dataframe\">\n",
       "  <thead>\n",
       "    <tr style=\"text-align: right;\">\n",
       "      <th></th>\n",
       "      <th>satisfaction_level</th>\n",
       "      <th>last_evaluation</th>\n",
       "      <th>number_projects</th>\n",
       "      <th>average_monthly_hours</th>\n",
       "      <th>time_spent_company</th>\n",
       "      <th>work_accident</th>\n",
       "      <th>left</th>\n",
       "      <th>promotion_last_5_years</th>\n",
       "      <th>salary_level</th>\n",
       "    </tr>\n",
       "  </thead>\n",
       "  <tbody>\n",
       "    <tr>\n",
       "      <th>count</th>\n",
       "      <td>14999.000000</td>\n",
       "      <td>14999.000000</td>\n",
       "      <td>14999.000000</td>\n",
       "      <td>14999.000000</td>\n",
       "      <td>14999.000000</td>\n",
       "      <td>14999.000000</td>\n",
       "      <td>14999.000000</td>\n",
       "      <td>14999.000000</td>\n",
       "      <td>14999.000000</td>\n",
       "    </tr>\n",
       "    <tr>\n",
       "      <th>mean</th>\n",
       "      <td>0.612834</td>\n",
       "      <td>0.716102</td>\n",
       "      <td>3.803054</td>\n",
       "      <td>201.050337</td>\n",
       "      <td>3.498233</td>\n",
       "      <td>0.144610</td>\n",
       "      <td>0.238083</td>\n",
       "      <td>0.021268</td>\n",
       "      <td>1.594706</td>\n",
       "    </tr>\n",
       "    <tr>\n",
       "      <th>std</th>\n",
       "      <td>0.248631</td>\n",
       "      <td>0.171169</td>\n",
       "      <td>1.232592</td>\n",
       "      <td>49.943099</td>\n",
       "      <td>1.460136</td>\n",
       "      <td>0.351719</td>\n",
       "      <td>0.425924</td>\n",
       "      <td>0.144281</td>\n",
       "      <td>0.637183</td>\n",
       "    </tr>\n",
       "    <tr>\n",
       "      <th>min</th>\n",
       "      <td>0.090000</td>\n",
       "      <td>0.360000</td>\n",
       "      <td>2.000000</td>\n",
       "      <td>96.000000</td>\n",
       "      <td>2.000000</td>\n",
       "      <td>0.000000</td>\n",
       "      <td>0.000000</td>\n",
       "      <td>0.000000</td>\n",
       "      <td>1.000000</td>\n",
       "    </tr>\n",
       "    <tr>\n",
       "      <th>25%</th>\n",
       "      <td>0.440000</td>\n",
       "      <td>0.560000</td>\n",
       "      <td>3.000000</td>\n",
       "      <td>156.000000</td>\n",
       "      <td>3.000000</td>\n",
       "      <td>0.000000</td>\n",
       "      <td>0.000000</td>\n",
       "      <td>0.000000</td>\n",
       "      <td>1.000000</td>\n",
       "    </tr>\n",
       "    <tr>\n",
       "      <th>50%</th>\n",
       "      <td>0.640000</td>\n",
       "      <td>0.720000</td>\n",
       "      <td>4.000000</td>\n",
       "      <td>200.000000</td>\n",
       "      <td>3.000000</td>\n",
       "      <td>0.000000</td>\n",
       "      <td>0.000000</td>\n",
       "      <td>0.000000</td>\n",
       "      <td>2.000000</td>\n",
       "    </tr>\n",
       "    <tr>\n",
       "      <th>75%</th>\n",
       "      <td>0.820000</td>\n",
       "      <td>0.870000</td>\n",
       "      <td>5.000000</td>\n",
       "      <td>245.000000</td>\n",
       "      <td>4.000000</td>\n",
       "      <td>0.000000</td>\n",
       "      <td>0.000000</td>\n",
       "      <td>0.000000</td>\n",
       "      <td>2.000000</td>\n",
       "    </tr>\n",
       "    <tr>\n",
       "      <th>max</th>\n",
       "      <td>1.000000</td>\n",
       "      <td>1.000000</td>\n",
       "      <td>7.000000</td>\n",
       "      <td>310.000000</td>\n",
       "      <td>10.000000</td>\n",
       "      <td>1.000000</td>\n",
       "      <td>1.000000</td>\n",
       "      <td>1.000000</td>\n",
       "      <td>3.000000</td>\n",
       "    </tr>\n",
       "  </tbody>\n",
       "</table>\n",
       "</div>"
      ],
      "text/plain": [
       "       satisfaction_level  last_evaluation  number_projects  \\\n",
       "count        14999.000000     14999.000000     14999.000000   \n",
       "mean             0.612834         0.716102         3.803054   \n",
       "std              0.248631         0.171169         1.232592   \n",
       "min              0.090000         0.360000         2.000000   \n",
       "25%              0.440000         0.560000         3.000000   \n",
       "50%              0.640000         0.720000         4.000000   \n",
       "75%              0.820000         0.870000         5.000000   \n",
       "max              1.000000         1.000000         7.000000   \n",
       "\n",
       "       average_monthly_hours  time_spent_company  work_accident          left  \\\n",
       "count           14999.000000        14999.000000   14999.000000  14999.000000   \n",
       "mean              201.050337            3.498233       0.144610      0.238083   \n",
       "std                49.943099            1.460136       0.351719      0.425924   \n",
       "min                96.000000            2.000000       0.000000      0.000000   \n",
       "25%               156.000000            3.000000       0.000000      0.000000   \n",
       "50%               200.000000            3.000000       0.000000      0.000000   \n",
       "75%               245.000000            4.000000       0.000000      0.000000   \n",
       "max               310.000000           10.000000       1.000000      1.000000   \n",
       "\n",
       "       promotion_last_5_years  salary_level  \n",
       "count            14999.000000  14999.000000  \n",
       "mean                 0.021268      1.594706  \n",
       "std                  0.144281      0.637183  \n",
       "min                  0.000000      1.000000  \n",
       "25%                  0.000000      1.000000  \n",
       "50%                  0.000000      2.000000  \n",
       "75%                  0.000000      2.000000  \n",
       "max                  1.000000      3.000000  "
      ]
     },
     "execution_count": 6,
     "metadata": {},
     "output_type": "execute_result"
    }
   ],
   "source": [
    "data.describe()"
   ]
  },
  {
   "cell_type": "markdown",
   "metadata": {},
   "source": [
    "From this the following things can be analysed :\n",
    "\n",
    "1.The avg satisfaction_level is > 0.6 - this clearly states that it is a not a major factor and along with it there are other factors too which are affecting the employees i.e last_evaluation whose avg > 0.7.\n",
    "\n",
    "2.The employee is having of nearly 2 years of experience in the company and gets avg salary."
   ]
  },
  {
   "cell_type": "code",
   "execution_count": 7,
   "metadata": {},
   "outputs": [
    {
     "name": "stdout",
     "output_type": "stream",
     "text": [
      "<class 'pandas.core.frame.DataFrame'>\n",
      "RangeIndex: 14999 entries, 0 to 14998\n",
      "Data columns (total 12 columns):\n",
      "name                      14998 non-null object\n",
      "satisfaction_level        14999 non-null float64\n",
      "last_evaluation           14999 non-null float64\n",
      "number_projects           14999 non-null int64\n",
      "average_monthly_hours     14999 non-null int64\n",
      "time_spent_company        14999 non-null int64\n",
      "work_accident             14999 non-null int64\n",
      "left                      14999 non-null int64\n",
      "promotion_last_5_years    14999 non-null int64\n",
      "department                14999 non-null object\n",
      "salary                    14999 non-null object\n",
      "salary_level              14999 non-null int64\n",
      "dtypes: float64(2), int64(7), object(3)\n",
      "memory usage: 1.4+ MB\n"
     ]
    }
   ],
   "source": [
    "data.info()"
   ]
  },
  {
   "cell_type": "code",
   "execution_count": 8,
   "metadata": {},
   "outputs": [
    {
     "name": "stdout",
     "output_type": "stream",
     "text": [
      "<class 'pandas.core.frame.DataFrame'>\n",
      "Int64Index: 0 entries\n",
      "Data columns (total 12 columns):\n",
      "name                      0 non-null object\n",
      "satisfaction_level        0 non-null float64\n",
      "last_evaluation           0 non-null float64\n",
      "number_projects           0 non-null int64\n",
      "average_monthly_hours     0 non-null int64\n",
      "time_spent_company        0 non-null int64\n",
      "work_accident             0 non-null int64\n",
      "left                      0 non-null int64\n",
      "promotion_last_5_years    0 non-null int64\n",
      "department                0 non-null object\n",
      "salary                    0 non-null object\n",
      "salary_level              0 non-null int64\n",
      "dtypes: float64(2), int64(7), object(3)\n",
      "memory usage: 0.0+ bytes\n",
      "None\n"
     ]
    }
   ],
   "source": [
    "print(data[data['name']==\"\"].info())"
   ]
  },
  {
   "cell_type": "markdown",
   "metadata": {},
   "source": [
    "Finding and filtering categorical variables:"
   ]
  },
  {
   "cell_type": "code",
   "execution_count": 9,
   "metadata": {},
   "outputs": [
    {
     "name": "stdout",
     "output_type": "stream",
     "text": [
      "Index(['name', 'department', 'salary'], dtype='object')\n"
     ]
    }
   ],
   "source": [
    "categorical = data.dtypes[data.dtypes==\"object\"].index\n",
    "\n",
    "print(categorical)"
   ]
  },
  {
   "cell_type": "markdown",
   "metadata": {},
   "source": [
    "Looking at the number of unique values in each of them:"
   ]
  },
  {
   "cell_type": "code",
   "execution_count": 10,
   "metadata": {},
   "outputs": [
    {
     "data": {
      "text/plain": [
       "name          14999\n",
       "department       10\n",
       "salary            3\n",
       "dtype: int64"
      ]
     },
     "execution_count": 10,
     "metadata": {},
     "output_type": "execute_result"
    }
   ],
   "source": [
    "data[categorical].apply(lambda x: len(x.unique()))"
   ]
  },
  {
   "cell_type": "markdown",
   "metadata": {},
   "source": [
    "* This tells us that allthe data is unique.\n",
    "* There are 10 departments.\n",
    "* And the salary types is = 3."
   ]
  },
  {
   "cell_type": "code",
   "execution_count": 11,
   "metadata": {},
   "outputs": [
    {
     "data": {
      "text/html": [
       "<div>\n",
       "<style>\n",
       "    .dataframe thead tr:only-child th {\n",
       "        text-align: right;\n",
       "    }\n",
       "\n",
       "    .dataframe thead th {\n",
       "        text-align: left;\n",
       "    }\n",
       "\n",
       "    .dataframe tbody tr th {\n",
       "        vertical-align: top;\n",
       "    }\n",
       "</style>\n",
       "<table border=\"1\" class=\"dataframe\">\n",
       "  <thead>\n",
       "    <tr style=\"text-align: right;\">\n",
       "      <th></th>\n",
       "      <th>name</th>\n",
       "      <th>department</th>\n",
       "      <th>salary</th>\n",
       "    </tr>\n",
       "  </thead>\n",
       "  <tbody>\n",
       "    <tr>\n",
       "      <th>count</th>\n",
       "      <td>14998</td>\n",
       "      <td>14999</td>\n",
       "      <td>14999</td>\n",
       "    </tr>\n",
       "    <tr>\n",
       "      <th>unique</th>\n",
       "      <td>14998</td>\n",
       "      <td>10</td>\n",
       "      <td>3</td>\n",
       "    </tr>\n",
       "    <tr>\n",
       "      <th>top</th>\n",
       "      <td>GOUIN</td>\n",
       "      <td>sales</td>\n",
       "      <td>low</td>\n",
       "    </tr>\n",
       "    <tr>\n",
       "      <th>freq</th>\n",
       "      <td>1</td>\n",
       "      <td>4140</td>\n",
       "      <td>7316</td>\n",
       "    </tr>\n",
       "  </tbody>\n",
       "</table>\n",
       "</div>"
      ],
      "text/plain": [
       "         name department salary\n",
       "count   14998      14999  14999\n",
       "unique  14998         10      3\n",
       "top     GOUIN      sales    low\n",
       "freq        1       4140   7316"
      ]
     },
     "execution_count": 11,
     "metadata": {},
     "output_type": "execute_result"
    }
   ],
   "source": [
    "data[categorical].describe()"
   ]
  },
  {
   "cell_type": "code",
   "execution_count": 12,
   "metadata": {},
   "outputs": [
    {
     "name": "stdout",
     "output_type": "stream",
     "text": [
      "\n",
      "Frequency of Categories for variable : department\n",
      "sales          4140\n",
      "technical      2720\n",
      "support        2229\n",
      "IT             1227\n",
      "product_mng     902\n",
      "marketing       858\n",
      "RandD           787\n",
      "accounting      767\n",
      "hr              739\n",
      "management      630\n",
      "Name: department, dtype: int64\n",
      "\n",
      "Frequency of Categories for variable : salary\n",
      "low       7316\n",
      "medium    6446\n",
      "high      1237\n",
      "Name: salary, dtype: int64\n"
     ]
    }
   ],
   "source": [
    "#Excluding Name:\n",
    "\n",
    "categorical_columns = [x for x in categorical if x not in ['name']]\n",
    "\n",
    "#Printing Frequency of categories:\n",
    "\n",
    "for col in categorical_columns:\n",
    "    print('\\nFrequency of Categories for variable :',col)\n",
    "    print(data[col].value_counts())"
   ]
  },
  {
   "cell_type": "markdown",
   "metadata": {},
   "source": [
    "The output gives us following observations:\n",
    "\n",
    "1.department: We can go for two broad categories of department i.e Technical And Non-Technical.\n",
    "\n",
    "2.salary: Mojority employees lies in the category of low and med salary type.\n",
    "\n",
    "But we should check if that’s a good idea before doing it."
   ]
  },
  {
   "cell_type": "markdown",
   "metadata": {},
   "source": [
    "# Data Cleaning"
   ]
  },
  {
   "cell_type": "markdown",
   "metadata": {},
   "source": [
    "Imputing Missing Values : Since there is no missing values so no such requirement is there...."
   ]
  },
  {
   "cell_type": "code",
   "execution_count": 13,
   "metadata": {},
   "outputs": [
    {
     "data": {
      "text/plain": [
       "name                      1\n",
       "satisfaction_level        0\n",
       "last_evaluation           0\n",
       "number_projects           0\n",
       "average_monthly_hours     0\n",
       "time_spent_company        0\n",
       "work_accident             0\n",
       "left                      0\n",
       "promotion_last_5_years    0\n",
       "department                0\n",
       "salary                    0\n",
       "salary_level              0\n",
       "dtype: int64"
      ]
     },
     "execution_count": 13,
     "metadata": {},
     "output_type": "execute_result"
    }
   ],
   "source": [
    "data.apply(lambda x: sum(x.isnull()))"
   ]
  },
  {
   "cell_type": "code",
   "execution_count": 14,
   "metadata": {},
   "outputs": [
    {
     "data": {
      "text/html": [
       "<div>\n",
       "<style>\n",
       "    .dataframe thead tr:only-child th {\n",
       "        text-align: right;\n",
       "    }\n",
       "\n",
       "    .dataframe thead th {\n",
       "        text-align: left;\n",
       "    }\n",
       "\n",
       "    .dataframe tbody tr th {\n",
       "        vertical-align: top;\n",
       "    }\n",
       "</style>\n",
       "<table border=\"1\" class=\"dataframe\">\n",
       "  <thead>\n",
       "    <tr style=\"text-align: right;\">\n",
       "      <th></th>\n",
       "      <th>name</th>\n",
       "      <th>satisfaction_level</th>\n",
       "      <th>last_evaluation</th>\n",
       "      <th>number_projects</th>\n",
       "      <th>average_monthly_hours</th>\n",
       "      <th>time_spent_company</th>\n",
       "      <th>work_accident</th>\n",
       "      <th>left</th>\n",
       "      <th>promotion_last_5_years</th>\n",
       "      <th>department</th>\n",
       "      <th>salary</th>\n",
       "      <th>salary_level</th>\n",
       "    </tr>\n",
       "  </thead>\n",
       "  <tbody>\n",
       "    <tr>\n",
       "      <th>0</th>\n",
       "      <td>SMITH</td>\n",
       "      <td>0.38</td>\n",
       "      <td>0.53</td>\n",
       "      <td>2</td>\n",
       "      <td>157</td>\n",
       "      <td>3</td>\n",
       "      <td>0</td>\n",
       "      <td>1</td>\n",
       "      <td>0</td>\n",
       "      <td>sales</td>\n",
       "      <td>low</td>\n",
       "      <td>1</td>\n",
       "    </tr>\n",
       "    <tr>\n",
       "      <th>1</th>\n",
       "      <td>JOHNSON</td>\n",
       "      <td>0.80</td>\n",
       "      <td>0.86</td>\n",
       "      <td>5</td>\n",
       "      <td>262</td>\n",
       "      <td>6</td>\n",
       "      <td>0</td>\n",
       "      <td>1</td>\n",
       "      <td>0</td>\n",
       "      <td>sales</td>\n",
       "      <td>medium</td>\n",
       "      <td>2</td>\n",
       "    </tr>\n",
       "    <tr>\n",
       "      <th>2</th>\n",
       "      <td>WILLIAMS</td>\n",
       "      <td>0.11</td>\n",
       "      <td>0.88</td>\n",
       "      <td>7</td>\n",
       "      <td>272</td>\n",
       "      <td>4</td>\n",
       "      <td>0</td>\n",
       "      <td>1</td>\n",
       "      <td>0</td>\n",
       "      <td>sales</td>\n",
       "      <td>medium</td>\n",
       "      <td>2</td>\n",
       "    </tr>\n",
       "    <tr>\n",
       "      <th>3</th>\n",
       "      <td>BROWN</td>\n",
       "      <td>0.72</td>\n",
       "      <td>0.87</td>\n",
       "      <td>5</td>\n",
       "      <td>223</td>\n",
       "      <td>5</td>\n",
       "      <td>0</td>\n",
       "      <td>1</td>\n",
       "      <td>0</td>\n",
       "      <td>sales</td>\n",
       "      <td>low</td>\n",
       "      <td>1</td>\n",
       "    </tr>\n",
       "    <tr>\n",
       "      <th>4</th>\n",
       "      <td>JONES</td>\n",
       "      <td>0.37</td>\n",
       "      <td>0.52</td>\n",
       "      <td>2</td>\n",
       "      <td>159</td>\n",
       "      <td>3</td>\n",
       "      <td>0</td>\n",
       "      <td>1</td>\n",
       "      <td>0</td>\n",
       "      <td>sales</td>\n",
       "      <td>low</td>\n",
       "      <td>1</td>\n",
       "    </tr>\n",
       "  </tbody>\n",
       "</table>\n",
       "</div>"
      ],
      "text/plain": [
       "       name  satisfaction_level  last_evaluation  number_projects  \\\n",
       "0     SMITH                0.38             0.53                2   \n",
       "1   JOHNSON                0.80             0.86                5   \n",
       "2  WILLIAMS                0.11             0.88                7   \n",
       "3     BROWN                0.72             0.87                5   \n",
       "4     JONES                0.37             0.52                2   \n",
       "\n",
       "   average_monthly_hours  time_spent_company  work_accident  left  \\\n",
       "0                    157                   3              0     1   \n",
       "1                    262                   6              0     1   \n",
       "2                    272                   4              0     1   \n",
       "3                    223                   5              0     1   \n",
       "4                    159                   3              0     1   \n",
       "\n",
       "   promotion_last_5_years department  salary  salary_level  \n",
       "0                       0      sales     low             1  \n",
       "1                       0      sales  medium             2  \n",
       "2                       0      sales  medium             2  \n",
       "3                       0      sales     low             1  \n",
       "4                       0      sales     low             1  "
      ]
     },
     "execution_count": 14,
     "metadata": {},
     "output_type": "execute_result"
    }
   ],
   "source": [
    "data.head()"
   ]
  },
  {
   "cell_type": "markdown",
   "metadata": {},
   "source": [
    "Exporting Data..."
   ]
  },
  {
   "cell_type": "code",
   "execution_count": 15,
   "metadata": {},
   "outputs": [],
   "source": [
    "data.drop('name',axis=1,inplace=True)"
   ]
  },
  {
   "cell_type": "code",
   "execution_count": 16,
   "metadata": {},
   "outputs": [
    {
     "data": {
      "text/html": [
       "<div>\n",
       "<style>\n",
       "    .dataframe thead tr:only-child th {\n",
       "        text-align: right;\n",
       "    }\n",
       "\n",
       "    .dataframe thead th {\n",
       "        text-align: left;\n",
       "    }\n",
       "\n",
       "    .dataframe tbody tr th {\n",
       "        vertical-align: top;\n",
       "    }\n",
       "</style>\n",
       "<table border=\"1\" class=\"dataframe\">\n",
       "  <thead>\n",
       "    <tr style=\"text-align: right;\">\n",
       "      <th></th>\n",
       "      <th>satisfaction_level</th>\n",
       "      <th>last_evaluation</th>\n",
       "      <th>number_projects</th>\n",
       "      <th>average_monthly_hours</th>\n",
       "      <th>time_spent_company</th>\n",
       "      <th>work_accident</th>\n",
       "      <th>left</th>\n",
       "      <th>promotion_last_5_years</th>\n",
       "      <th>department</th>\n",
       "      <th>salary</th>\n",
       "      <th>salary_level</th>\n",
       "    </tr>\n",
       "  </thead>\n",
       "  <tbody>\n",
       "    <tr>\n",
       "      <th>0</th>\n",
       "      <td>0.38</td>\n",
       "      <td>0.53</td>\n",
       "      <td>2</td>\n",
       "      <td>157</td>\n",
       "      <td>3</td>\n",
       "      <td>0</td>\n",
       "      <td>1</td>\n",
       "      <td>0</td>\n",
       "      <td>sales</td>\n",
       "      <td>low</td>\n",
       "      <td>1</td>\n",
       "    </tr>\n",
       "    <tr>\n",
       "      <th>1</th>\n",
       "      <td>0.80</td>\n",
       "      <td>0.86</td>\n",
       "      <td>5</td>\n",
       "      <td>262</td>\n",
       "      <td>6</td>\n",
       "      <td>0</td>\n",
       "      <td>1</td>\n",
       "      <td>0</td>\n",
       "      <td>sales</td>\n",
       "      <td>medium</td>\n",
       "      <td>2</td>\n",
       "    </tr>\n",
       "    <tr>\n",
       "      <th>2</th>\n",
       "      <td>0.11</td>\n",
       "      <td>0.88</td>\n",
       "      <td>7</td>\n",
       "      <td>272</td>\n",
       "      <td>4</td>\n",
       "      <td>0</td>\n",
       "      <td>1</td>\n",
       "      <td>0</td>\n",
       "      <td>sales</td>\n",
       "      <td>medium</td>\n",
       "      <td>2</td>\n",
       "    </tr>\n",
       "    <tr>\n",
       "      <th>3</th>\n",
       "      <td>0.72</td>\n",
       "      <td>0.87</td>\n",
       "      <td>5</td>\n",
       "      <td>223</td>\n",
       "      <td>5</td>\n",
       "      <td>0</td>\n",
       "      <td>1</td>\n",
       "      <td>0</td>\n",
       "      <td>sales</td>\n",
       "      <td>low</td>\n",
       "      <td>1</td>\n",
       "    </tr>\n",
       "    <tr>\n",
       "      <th>4</th>\n",
       "      <td>0.37</td>\n",
       "      <td>0.52</td>\n",
       "      <td>2</td>\n",
       "      <td>159</td>\n",
       "      <td>3</td>\n",
       "      <td>0</td>\n",
       "      <td>1</td>\n",
       "      <td>0</td>\n",
       "      <td>sales</td>\n",
       "      <td>low</td>\n",
       "      <td>1</td>\n",
       "    </tr>\n",
       "  </tbody>\n",
       "</table>\n",
       "</div>"
      ],
      "text/plain": [
       "   satisfaction_level  last_evaluation  number_projects  \\\n",
       "0                0.38             0.53                2   \n",
       "1                0.80             0.86                5   \n",
       "2                0.11             0.88                7   \n",
       "3                0.72             0.87                5   \n",
       "4                0.37             0.52                2   \n",
       "\n",
       "   average_monthly_hours  time_spent_company  work_accident  left  \\\n",
       "0                    157                   3              0     1   \n",
       "1                    262                   6              0     1   \n",
       "2                    272                   4              0     1   \n",
       "3                    223                   5              0     1   \n",
       "4                    159                   3              0     1   \n",
       "\n",
       "   promotion_last_5_years department  salary  salary_level  \n",
       "0                       0      sales     low             1  \n",
       "1                       0      sales  medium             2  \n",
       "2                       0      sales  medium             2  \n",
       "3                       0      sales     low             1  \n",
       "4                       0      sales     low             1  "
      ]
     },
     "execution_count": 16,
     "metadata": {},
     "output_type": "execute_result"
    }
   ],
   "source": [
    "data.head()"
   ]
  },
  {
   "cell_type": "markdown",
   "metadata": {},
   "source": [
    "# Feature Engineering"
   ]
  },
  {
   "cell_type": "code",
   "execution_count": 17,
   "metadata": {},
   "outputs": [
    {
     "data": {
      "text/html": [
       "<div>\n",
       "<style>\n",
       "    .dataframe thead tr:only-child th {\n",
       "        text-align: right;\n",
       "    }\n",
       "\n",
       "    .dataframe thead th {\n",
       "        text-align: left;\n",
       "    }\n",
       "\n",
       "    .dataframe tbody tr th {\n",
       "        vertical-align: top;\n",
       "    }\n",
       "</style>\n",
       "<table border=\"1\" class=\"dataframe\">\n",
       "  <thead>\n",
       "    <tr style=\"text-align: right;\">\n",
       "      <th></th>\n",
       "      <th>satisfaction_level</th>\n",
       "      <th>last_evaluation</th>\n",
       "      <th>number_projects</th>\n",
       "      <th>average_monthly_hours</th>\n",
       "      <th>time_spent_company</th>\n",
       "      <th>work_accident</th>\n",
       "      <th>left</th>\n",
       "      <th>promotion_last_5_years</th>\n",
       "      <th>department</th>\n",
       "      <th>salary</th>\n",
       "      <th>salary_level</th>\n",
       "    </tr>\n",
       "  </thead>\n",
       "  <tbody>\n",
       "    <tr>\n",
       "      <th>0</th>\n",
       "      <td>0.38</td>\n",
       "      <td>0.53</td>\n",
       "      <td>2</td>\n",
       "      <td>157</td>\n",
       "      <td>3</td>\n",
       "      <td>0</td>\n",
       "      <td>1</td>\n",
       "      <td>0</td>\n",
       "      <td>sales</td>\n",
       "      <td>0</td>\n",
       "      <td>1</td>\n",
       "    </tr>\n",
       "    <tr>\n",
       "      <th>1</th>\n",
       "      <td>0.80</td>\n",
       "      <td>0.86</td>\n",
       "      <td>5</td>\n",
       "      <td>262</td>\n",
       "      <td>6</td>\n",
       "      <td>0</td>\n",
       "      <td>1</td>\n",
       "      <td>0</td>\n",
       "      <td>sales</td>\n",
       "      <td>1</td>\n",
       "      <td>2</td>\n",
       "    </tr>\n",
       "    <tr>\n",
       "      <th>2</th>\n",
       "      <td>0.11</td>\n",
       "      <td>0.88</td>\n",
       "      <td>7</td>\n",
       "      <td>272</td>\n",
       "      <td>4</td>\n",
       "      <td>0</td>\n",
       "      <td>1</td>\n",
       "      <td>0</td>\n",
       "      <td>sales</td>\n",
       "      <td>1</td>\n",
       "      <td>2</td>\n",
       "    </tr>\n",
       "    <tr>\n",
       "      <th>3</th>\n",
       "      <td>0.72</td>\n",
       "      <td>0.87</td>\n",
       "      <td>5</td>\n",
       "      <td>223</td>\n",
       "      <td>5</td>\n",
       "      <td>0</td>\n",
       "      <td>1</td>\n",
       "      <td>0</td>\n",
       "      <td>sales</td>\n",
       "      <td>0</td>\n",
       "      <td>1</td>\n",
       "    </tr>\n",
       "    <tr>\n",
       "      <th>4</th>\n",
       "      <td>0.37</td>\n",
       "      <td>0.52</td>\n",
       "      <td>2</td>\n",
       "      <td>159</td>\n",
       "      <td>3</td>\n",
       "      <td>0</td>\n",
       "      <td>1</td>\n",
       "      <td>0</td>\n",
       "      <td>sales</td>\n",
       "      <td>0</td>\n",
       "      <td>1</td>\n",
       "    </tr>\n",
       "  </tbody>\n",
       "</table>\n",
       "</div>"
      ],
      "text/plain": [
       "   satisfaction_level  last_evaluation  number_projects  \\\n",
       "0                0.38             0.53                2   \n",
       "1                0.80             0.86                5   \n",
       "2                0.11             0.88                7   \n",
       "3                0.72             0.87                5   \n",
       "4                0.37             0.52                2   \n",
       "\n",
       "   average_monthly_hours  time_spent_company  work_accident  left  \\\n",
       "0                    157                   3              0     1   \n",
       "1                    262                   6              0     1   \n",
       "2                    272                   4              0     1   \n",
       "3                    223                   5              0     1   \n",
       "4                    159                   3              0     1   \n",
       "\n",
       "   promotion_last_5_years department salary  salary_level  \n",
       "0                       0      sales      0             1  \n",
       "1                       0      sales      1             2  \n",
       "2                       0      sales      1             2  \n",
       "3                       0      sales      0             1  \n",
       "4                       0      sales      0             1  "
      ]
     },
     "execution_count": 17,
     "metadata": {},
     "output_type": "execute_result"
    }
   ],
   "source": [
    "data['salary'][data['salary']=='low']=0\n",
    "data['salary'][data['salary']=='medium']=1\n",
    "data['salary'][data['salary']=='high']=2\n",
    "\n",
    "data.head()"
   ]
  },
  {
   "cell_type": "code",
   "execution_count": 18,
   "metadata": {},
   "outputs": [
    {
     "data": {
      "text/html": [
       "<div>\n",
       "<style>\n",
       "    .dataframe thead tr:only-child th {\n",
       "        text-align: right;\n",
       "    }\n",
       "\n",
       "    .dataframe thead th {\n",
       "        text-align: left;\n",
       "    }\n",
       "\n",
       "    .dataframe tbody tr th {\n",
       "        vertical-align: top;\n",
       "    }\n",
       "</style>\n",
       "<table border=\"1\" class=\"dataframe\">\n",
       "  <thead>\n",
       "    <tr style=\"text-align: right;\">\n",
       "      <th></th>\n",
       "      <th>satisfaction_level</th>\n",
       "      <th>last_evaluation</th>\n",
       "      <th>number_projects</th>\n",
       "      <th>average_monthly_hours</th>\n",
       "      <th>time_spent_company</th>\n",
       "      <th>work_accident</th>\n",
       "      <th>left</th>\n",
       "      <th>promotion_last_5_years</th>\n",
       "      <th>department</th>\n",
       "      <th>salary</th>\n",
       "    </tr>\n",
       "  </thead>\n",
       "  <tbody>\n",
       "    <tr>\n",
       "      <th>0</th>\n",
       "      <td>0.38</td>\n",
       "      <td>0.53</td>\n",
       "      <td>2</td>\n",
       "      <td>157</td>\n",
       "      <td>3</td>\n",
       "      <td>0</td>\n",
       "      <td>1</td>\n",
       "      <td>0</td>\n",
       "      <td>sales</td>\n",
       "      <td>0</td>\n",
       "    </tr>\n",
       "    <tr>\n",
       "      <th>1</th>\n",
       "      <td>0.80</td>\n",
       "      <td>0.86</td>\n",
       "      <td>5</td>\n",
       "      <td>262</td>\n",
       "      <td>6</td>\n",
       "      <td>0</td>\n",
       "      <td>1</td>\n",
       "      <td>0</td>\n",
       "      <td>sales</td>\n",
       "      <td>1</td>\n",
       "    </tr>\n",
       "    <tr>\n",
       "      <th>2</th>\n",
       "      <td>0.11</td>\n",
       "      <td>0.88</td>\n",
       "      <td>7</td>\n",
       "      <td>272</td>\n",
       "      <td>4</td>\n",
       "      <td>0</td>\n",
       "      <td>1</td>\n",
       "      <td>0</td>\n",
       "      <td>sales</td>\n",
       "      <td>1</td>\n",
       "    </tr>\n",
       "    <tr>\n",
       "      <th>3</th>\n",
       "      <td>0.72</td>\n",
       "      <td>0.87</td>\n",
       "      <td>5</td>\n",
       "      <td>223</td>\n",
       "      <td>5</td>\n",
       "      <td>0</td>\n",
       "      <td>1</td>\n",
       "      <td>0</td>\n",
       "      <td>sales</td>\n",
       "      <td>0</td>\n",
       "    </tr>\n",
       "    <tr>\n",
       "      <th>4</th>\n",
       "      <td>0.37</td>\n",
       "      <td>0.52</td>\n",
       "      <td>2</td>\n",
       "      <td>159</td>\n",
       "      <td>3</td>\n",
       "      <td>0</td>\n",
       "      <td>1</td>\n",
       "      <td>0</td>\n",
       "      <td>sales</td>\n",
       "      <td>0</td>\n",
       "    </tr>\n",
       "  </tbody>\n",
       "</table>\n",
       "</div>"
      ],
      "text/plain": [
       "   satisfaction_level  last_evaluation  number_projects  \\\n",
       "0                0.38             0.53                2   \n",
       "1                0.80             0.86                5   \n",
       "2                0.11             0.88                7   \n",
       "3                0.72             0.87                5   \n",
       "4                0.37             0.52                2   \n",
       "\n",
       "   average_monthly_hours  time_spent_company  work_accident  left  \\\n",
       "0                    157                   3              0     1   \n",
       "1                    262                   6              0     1   \n",
       "2                    272                   4              0     1   \n",
       "3                    223                   5              0     1   \n",
       "4                    159                   3              0     1   \n",
       "\n",
       "   promotion_last_5_years department salary  \n",
       "0                       0      sales      0  \n",
       "1                       0      sales      1  \n",
       "2                       0      sales      1  \n",
       "3                       0      sales      0  \n",
       "4                       0      sales      0  "
      ]
     },
     "execution_count": 18,
     "metadata": {},
     "output_type": "execute_result"
    }
   ],
   "source": [
    "data.drop('salary_level',axis=1,inplace=True)\n",
    "data.head()"
   ]
  },
  {
   "cell_type": "code",
   "execution_count": 19,
   "metadata": {},
   "outputs": [
    {
     "data": {
      "text/html": [
       "<div>\n",
       "<style>\n",
       "    .dataframe thead tr:only-child th {\n",
       "        text-align: right;\n",
       "    }\n",
       "\n",
       "    .dataframe thead th {\n",
       "        text-align: left;\n",
       "    }\n",
       "\n",
       "    .dataframe tbody tr th {\n",
       "        vertical-align: top;\n",
       "    }\n",
       "</style>\n",
       "<table border=\"1\" class=\"dataframe\">\n",
       "  <thead>\n",
       "    <tr style=\"text-align: right;\">\n",
       "      <th></th>\n",
       "      <th>satisfaction_level</th>\n",
       "      <th>last_evaluation</th>\n",
       "      <th>number_projects</th>\n",
       "      <th>average_monthly_hours</th>\n",
       "      <th>time_spent_company</th>\n",
       "      <th>work_accident</th>\n",
       "      <th>left</th>\n",
       "      <th>promotion_last_5_years</th>\n",
       "      <th>department</th>\n",
       "      <th>salary</th>\n",
       "    </tr>\n",
       "  </thead>\n",
       "  <tbody>\n",
       "    <tr>\n",
       "      <th>0</th>\n",
       "      <td>0.38</td>\n",
       "      <td>0.53</td>\n",
       "      <td>2</td>\n",
       "      <td>157</td>\n",
       "      <td>3</td>\n",
       "      <td>0</td>\n",
       "      <td>1</td>\n",
       "      <td>0</td>\n",
       "      <td>0</td>\n",
       "      <td>0</td>\n",
       "    </tr>\n",
       "    <tr>\n",
       "      <th>1</th>\n",
       "      <td>0.80</td>\n",
       "      <td>0.86</td>\n",
       "      <td>5</td>\n",
       "      <td>262</td>\n",
       "      <td>6</td>\n",
       "      <td>0</td>\n",
       "      <td>1</td>\n",
       "      <td>0</td>\n",
       "      <td>0</td>\n",
       "      <td>1</td>\n",
       "    </tr>\n",
       "    <tr>\n",
       "      <th>2</th>\n",
       "      <td>0.11</td>\n",
       "      <td>0.88</td>\n",
       "      <td>7</td>\n",
       "      <td>272</td>\n",
       "      <td>4</td>\n",
       "      <td>0</td>\n",
       "      <td>1</td>\n",
       "      <td>0</td>\n",
       "      <td>0</td>\n",
       "      <td>1</td>\n",
       "    </tr>\n",
       "    <tr>\n",
       "      <th>3</th>\n",
       "      <td>0.72</td>\n",
       "      <td>0.87</td>\n",
       "      <td>5</td>\n",
       "      <td>223</td>\n",
       "      <td>5</td>\n",
       "      <td>0</td>\n",
       "      <td>1</td>\n",
       "      <td>0</td>\n",
       "      <td>0</td>\n",
       "      <td>0</td>\n",
       "    </tr>\n",
       "    <tr>\n",
       "      <th>4</th>\n",
       "      <td>0.37</td>\n",
       "      <td>0.52</td>\n",
       "      <td>2</td>\n",
       "      <td>159</td>\n",
       "      <td>3</td>\n",
       "      <td>0</td>\n",
       "      <td>1</td>\n",
       "      <td>0</td>\n",
       "      <td>0</td>\n",
       "      <td>0</td>\n",
       "    </tr>\n",
       "  </tbody>\n",
       "</table>\n",
       "</div>"
      ],
      "text/plain": [
       "   satisfaction_level  last_evaluation  number_projects  \\\n",
       "0                0.38             0.53                2   \n",
       "1                0.80             0.86                5   \n",
       "2                0.11             0.88                7   \n",
       "3                0.72             0.87                5   \n",
       "4                0.37             0.52                2   \n",
       "\n",
       "   average_monthly_hours  time_spent_company  work_accident  left  \\\n",
       "0                    157                   3              0     1   \n",
       "1                    262                   6              0     1   \n",
       "2                    272                   4              0     1   \n",
       "3                    223                   5              0     1   \n",
       "4                    159                   3              0     1   \n",
       "\n",
       "   promotion_last_5_years department salary  \n",
       "0                       0          0      0  \n",
       "1                       0          0      1  \n",
       "2                       0          0      1  \n",
       "3                       0          0      0  \n",
       "4                       0          0      0  "
      ]
     },
     "execution_count": 19,
     "metadata": {},
     "output_type": "execute_result"
    }
   ],
   "source": [
    "data['department'][data['department']=='sales']=0\n",
    "data['department'][data['department']=='hr']=0\n",
    "data['department'][data['department']=='marketing']=0\n",
    "data['department'][data['department']=='management']=0\n",
    "data['department'][data['department']=='accounting']=0\n",
    "\n",
    "\n",
    "data['department'][data['department']=='technical']=1\n",
    "data['department'][data['department']=='RandD']=1\n",
    "data['department'][data['department']=='IT']=1\n",
    "data['department'][data['department']=='product_mng']=1\n",
    "data['department'][data['department']=='support']=1\n",
    "\n",
    "data.head()"
   ]
  },
  {
   "cell_type": "markdown",
   "metadata": {},
   "source": [
    "So let’s define who are the best and most experienced employees..\n",
    "                (above average)\n",
    "\n",
    "* Last Evaluation >= 0.74\n",
    "* time_spend_company >= 4\n",
    "* number_project > 4\n",
    "* About 1944 people "
   ]
  },
  {
   "cell_type": "code",
   "execution_count": 20,
   "metadata": {},
   "outputs": [
    {
     "data": {
      "text/plain": [
       "(1944, 10)"
      ]
     },
     "execution_count": 20,
     "metadata": {},
     "output_type": "execute_result"
    }
   ],
   "source": [
    "good_employee_data = data.loc[data['last_evaluation'] >= 0.74].loc[data['time_spent_company'] >= 4].loc[data['number_projects'] > 4]\n",
    "good_employee_data.shape"
   ]
  },
  {
   "cell_type": "markdown",
   "metadata": {},
   "source": [
    "Make A File For Good People....."
   ]
  },
  {
   "cell_type": "code",
   "execution_count": 21,
   "metadata": {},
   "outputs": [
    {
     "name": "stdout",
     "output_type": "stream",
     "text": [
      "Done.....!!!\n"
     ]
    }
   ],
   "source": [
    "#good_employee_data.to_csv('C://Users//SANDEEP YADAV//Desktop//Major2Poject//good_employee2_data.csv')\n",
    "print('Done.....!!!')"
   ]
  },
  {
   "cell_type": "code",
   "execution_count": 22,
   "metadata": {},
   "outputs": [
    {
     "data": {
      "text/html": [
       "<div>\n",
       "<style>\n",
       "    .dataframe thead tr:only-child th {\n",
       "        text-align: right;\n",
       "    }\n",
       "\n",
       "    .dataframe thead th {\n",
       "        text-align: left;\n",
       "    }\n",
       "\n",
       "    .dataframe tbody tr th {\n",
       "        vertical-align: top;\n",
       "    }\n",
       "</style>\n",
       "<table border=\"1\" class=\"dataframe\">\n",
       "  <thead>\n",
       "    <tr style=\"text-align: right;\">\n",
       "      <th></th>\n",
       "      <th>satisfaction_level</th>\n",
       "      <th>last_evaluation</th>\n",
       "      <th>number_projects</th>\n",
       "      <th>average_monthly_hours</th>\n",
       "      <th>time_spent_company</th>\n",
       "      <th>work_accident</th>\n",
       "      <th>left</th>\n",
       "      <th>promotion_last_5_years</th>\n",
       "      <th>department</th>\n",
       "      <th>salary</th>\n",
       "    </tr>\n",
       "  </thead>\n",
       "  <tbody>\n",
       "    <tr>\n",
       "      <th>0</th>\n",
       "      <td>0.38</td>\n",
       "      <td>0.53</td>\n",
       "      <td>2</td>\n",
       "      <td>157</td>\n",
       "      <td>3</td>\n",
       "      <td>0</td>\n",
       "      <td>1</td>\n",
       "      <td>0</td>\n",
       "      <td>0</td>\n",
       "      <td>0</td>\n",
       "    </tr>\n",
       "    <tr>\n",
       "      <th>1</th>\n",
       "      <td>0.80</td>\n",
       "      <td>0.86</td>\n",
       "      <td>5</td>\n",
       "      <td>262</td>\n",
       "      <td>6</td>\n",
       "      <td>0</td>\n",
       "      <td>1</td>\n",
       "      <td>0</td>\n",
       "      <td>0</td>\n",
       "      <td>1</td>\n",
       "    </tr>\n",
       "    <tr>\n",
       "      <th>2</th>\n",
       "      <td>0.11</td>\n",
       "      <td>0.88</td>\n",
       "      <td>7</td>\n",
       "      <td>272</td>\n",
       "      <td>4</td>\n",
       "      <td>0</td>\n",
       "      <td>1</td>\n",
       "      <td>0</td>\n",
       "      <td>0</td>\n",
       "      <td>1</td>\n",
       "    </tr>\n",
       "    <tr>\n",
       "      <th>3</th>\n",
       "      <td>0.72</td>\n",
       "      <td>0.87</td>\n",
       "      <td>5</td>\n",
       "      <td>223</td>\n",
       "      <td>5</td>\n",
       "      <td>0</td>\n",
       "      <td>1</td>\n",
       "      <td>0</td>\n",
       "      <td>0</td>\n",
       "      <td>0</td>\n",
       "    </tr>\n",
       "    <tr>\n",
       "      <th>4</th>\n",
       "      <td>0.37</td>\n",
       "      <td>0.52</td>\n",
       "      <td>2</td>\n",
       "      <td>159</td>\n",
       "      <td>3</td>\n",
       "      <td>0</td>\n",
       "      <td>1</td>\n",
       "      <td>0</td>\n",
       "      <td>0</td>\n",
       "      <td>0</td>\n",
       "    </tr>\n",
       "  </tbody>\n",
       "</table>\n",
       "</div>"
      ],
      "text/plain": [
       "   satisfaction_level  last_evaluation  number_projects  \\\n",
       "0                0.38             0.53                2   \n",
       "1                0.80             0.86                5   \n",
       "2                0.11             0.88                7   \n",
       "3                0.72             0.87                5   \n",
       "4                0.37             0.52                2   \n",
       "\n",
       "   average_monthly_hours  time_spent_company  work_accident  left  \\\n",
       "0                    157                   3              0     1   \n",
       "1                    262                   6              0     1   \n",
       "2                    272                   4              0     1   \n",
       "3                    223                   5              0     1   \n",
       "4                    159                   3              0     1   \n",
       "\n",
       "   promotion_last_5_years department salary  \n",
       "0                       0          0      0  \n",
       "1                       0          0      1  \n",
       "2                       0          0      1  \n",
       "3                       0          0      0  \n",
       "4                       0          0      0  "
      ]
     },
     "execution_count": 22,
     "metadata": {},
     "output_type": "execute_result"
    }
   ],
   "source": [
    "df = pd.DataFrame(data)\n",
    "df.head()"
   ]
  },
  {
   "cell_type": "code",
   "execution_count": 23,
   "metadata": {},
   "outputs": [],
   "source": [
    "# import pickle\n",
    "# df = df.reindex(np.random.permutation(df.index))\n",
    "# df.head()\n",
    "# pickle_out = open('pickle_data.pickle','wb')\n",
    "# pickle.dump(df, pickle_out)\n",
    "# pickle_out.close() \n",
    "\n",
    "#df.shape"
   ]
  },
  {
   "cell_type": "code",
   "execution_count": 24,
   "metadata": {},
   "outputs": [
    {
     "data": {
      "text/html": [
       "<div>\n",
       "<style>\n",
       "    .dataframe thead tr:only-child th {\n",
       "        text-align: right;\n",
       "    }\n",
       "\n",
       "    .dataframe thead th {\n",
       "        text-align: left;\n",
       "    }\n",
       "\n",
       "    .dataframe tbody tr th {\n",
       "        vertical-align: top;\n",
       "    }\n",
       "</style>\n",
       "<table border=\"1\" class=\"dataframe\">\n",
       "  <thead>\n",
       "    <tr style=\"text-align: right;\">\n",
       "      <th></th>\n",
       "      <th>satisfaction_level</th>\n",
       "      <th>last_evaluation</th>\n",
       "      <th>number_projects</th>\n",
       "      <th>average_monthly_hours</th>\n",
       "      <th>time_spent_company</th>\n",
       "      <th>work_accident</th>\n",
       "      <th>left</th>\n",
       "      <th>promotion_last_5_years</th>\n",
       "      <th>department</th>\n",
       "      <th>salary</th>\n",
       "    </tr>\n",
       "  </thead>\n",
       "  <tbody>\n",
       "    <tr>\n",
       "      <th>10393</th>\n",
       "      <td>0.83</td>\n",
       "      <td>0.77</td>\n",
       "      <td>3</td>\n",
       "      <td>260</td>\n",
       "      <td>2</td>\n",
       "      <td>0</td>\n",
       "      <td>0</td>\n",
       "      <td>0</td>\n",
       "      <td>0</td>\n",
       "      <td>1</td>\n",
       "    </tr>\n",
       "    <tr>\n",
       "      <th>7821</th>\n",
       "      <td>0.42</td>\n",
       "      <td>0.41</td>\n",
       "      <td>5</td>\n",
       "      <td>240</td>\n",
       "      <td>2</td>\n",
       "      <td>0</td>\n",
       "      <td>0</td>\n",
       "      <td>0</td>\n",
       "      <td>1</td>\n",
       "      <td>1</td>\n",
       "    </tr>\n",
       "    <tr>\n",
       "      <th>10725</th>\n",
       "      <td>0.52</td>\n",
       "      <td>0.55</td>\n",
       "      <td>3</td>\n",
       "      <td>225</td>\n",
       "      <td>2</td>\n",
       "      <td>0</td>\n",
       "      <td>0</td>\n",
       "      <td>0</td>\n",
       "      <td>1</td>\n",
       "      <td>0</td>\n",
       "    </tr>\n",
       "    <tr>\n",
       "      <th>3194</th>\n",
       "      <td>0.57</td>\n",
       "      <td>0.65</td>\n",
       "      <td>5</td>\n",
       "      <td>177</td>\n",
       "      <td>2</td>\n",
       "      <td>0</td>\n",
       "      <td>0</td>\n",
       "      <td>0</td>\n",
       "      <td>1</td>\n",
       "      <td>2</td>\n",
       "    </tr>\n",
       "    <tr>\n",
       "      <th>1601</th>\n",
       "      <td>0.68</td>\n",
       "      <td>0.62</td>\n",
       "      <td>5</td>\n",
       "      <td>198</td>\n",
       "      <td>5</td>\n",
       "      <td>1</td>\n",
       "      <td>1</td>\n",
       "      <td>0</td>\n",
       "      <td>1</td>\n",
       "      <td>0</td>\n",
       "    </tr>\n",
       "  </tbody>\n",
       "</table>\n",
       "</div>"
      ],
      "text/plain": [
       "       satisfaction_level  last_evaluation  number_projects  \\\n",
       "10393                0.83             0.77                3   \n",
       "7821                 0.42             0.41                5   \n",
       "10725                0.52             0.55                3   \n",
       "3194                 0.57             0.65                5   \n",
       "1601                 0.68             0.62                5   \n",
       "\n",
       "       average_monthly_hours  time_spent_company  work_accident  left  \\\n",
       "10393                    260                   2              0     0   \n",
       "7821                     240                   2              0     0   \n",
       "10725                    225                   2              0     0   \n",
       "3194                     177                   2              0     0   \n",
       "1601                     198                   5              1     1   \n",
       "\n",
       "       promotion_last_5_years department salary  \n",
       "10393                       0          0      1  \n",
       "7821                        0          1      1  \n",
       "10725                       0          1      0  \n",
       "3194                        0          1      2  \n",
       "1601                        0          1      0  "
      ]
     },
     "execution_count": 24,
     "metadata": {},
     "output_type": "execute_result"
    }
   ],
   "source": [
    "import pickle\n",
    "pickle_in = open('pickle_data.pickle','rb')\n",
    "data_1= pickle.load(pickle_in)\n",
    "data_1.head()"
   ]
  },
  {
   "cell_type": "code",
   "execution_count": null,
   "metadata": {},
   "outputs": [],
   "source": []
  },
  {
   "cell_type": "markdown",
   "metadata": {},
   "source": [
    "Making traing and testing data......"
   ]
  },
  {
   "cell_type": "code",
   "execution_count": 25,
   "metadata": {},
   "outputs": [],
   "source": [
    "X = data_1.loc[:, data_1.columns != 'left']\n",
    "Y = data_1.loc[:, data_1.columns == 'left']\n",
    "# X = np.array(df.drop(['left'],1))\n",
    "# X = preprocessing.scale(X)\n",
    "# Y = np.array(df['left'])\n",
    "X_train, X_test, Y_train, Y_test = cross_validation.train_test_split(X, Y, test_size=0.2, random_state=5)"
   ]
  },
  {
   "cell_type": "code",
   "execution_count": 26,
   "metadata": {},
   "outputs": [
    {
     "name": "stdout",
     "output_type": "stream",
     "text": [
      "left    694\n",
      "dtype: int64\n"
     ]
    }
   ],
   "source": [
    "print(Y_test[Y_test['left']==1].count())"
   ]
  },
  {
   "cell_type": "markdown",
   "metadata": {},
   "source": [
    "# SVM.SVC Classifier"
   ]
  },
  {
   "cell_type": "code",
   "execution_count": 27,
   "metadata": {},
   "outputs": [
    {
     "name": "stdout",
     "output_type": "stream",
     "text": [
      "0.961580131678\n",
      "0.953413191549 0.00594190327005\n",
      "0.969577312208 0.00611427341295\n",
      "Accuracy of the algorithm:  0.952666666667\n",
      "Precison of the algorithm:  0.876021798365\n",
      "Recall of the algorithm:  0.9265129683\n",
      "F1_Score of the algorithm:  0.90056022409\n",
      "Total number of employees which are likely to leave:  734\n"
     ]
    }
   ],
   "source": [
    "features_one = X_train[[\"satisfaction_level\", \"last_evaluation\", \"number_projects\", \"average_monthly_hours\",\"time_spent_company\",\"work_accident\",\"promotion_last_5_years\",\"department\",\"salary\"]].values\n",
    "num_folds = 10\n",
    "num_instances = X_train.shape[0] \n",
    "seed=7\n",
    "scoring1 = 'accuracy'\n",
    "scoring2 = 'roc_auc'\n",
    "kfold = cross_validation.KFold(n=num_instances, n_folds=num_folds, random_state=seed)\n",
    "                               \n",
    "clf = svm.SVC()\n",
    "clf.fit(features_one, Y_train)\n",
    "# save_classifier = open(\"svm_svc.pickle\",\"wb\")\n",
    "# pickle.dump(clf, save_classifier)\n",
    "# save_classifier.close()\n",
    "\n",
    "#Print the Models Coefficients\n",
    "#print(clf.coef_)\n",
    "\n",
    "# Print normal score\n",
    "print(clf.score(features_one, Y_train))\n",
    "\n",
    "results1 = cross_validation.cross_val_score(clf, features_one, Y_train, cv=kfold,scoring=scoring1)\n",
    "\n",
    "#Print cross validation score\n",
    "print(results1.mean(), results1.std())\n",
    "\n",
    "results2 = cross_validation.cross_val_score(clf, features_one, Y_train, cv=kfold,scoring=scoring2)\n",
    "\n",
    "#Print AUC\n",
    "print(results2.mean(), results2.std())\n",
    "\n",
    "test_features = X_test[[\"satisfaction_level\", \"last_evaluation\", \"number_projects\", \"average_monthly_hours\",\"time_spent_company\",\"work_accident\",\"promotion_last_5_years\",\"department\",\"salary\"]].values\n",
    "# Make your prediction using the test set\n",
    "svm_prediction = clf.predict(test_features)\n",
    "\n",
    "acc = accuracy_score(Y_test, svm_prediction)\n",
    "precision = precision_score(Y_test, svm_prediction)\n",
    "recall = recall_score(Y_test, svm_prediction)\n",
    "f1score = f1_score(Y_test, svm_prediction)\n",
    "print(\"Accuracy of the algorithm: \", acc)\n",
    "print(\"Precison of the algorithm: \", precision)\n",
    "print(\"Recall of the algorithm: \", recall)\n",
    "print(\"F1_Score of the algorithm: \", f1score)\n",
    "print(\"Total number of employees which are likely to leave: \", sum(svm_prediction))\n",
    "\n",
    "\n",
    "#print(clf.feature_importances_)"
   ]
  },
  {
   "cell_type": "code",
   "execution_count": 28,
   "metadata": {},
   "outputs": [
    {
     "data": {
      "image/png": "[encoded data removed]",
      "text/plain": [
       "<matplotlib.figure.Figure at 0x1db20e85d30>"
      ]
     },
     "metadata": {},
     "output_type": "display_data"
    },
    {
     "data": {
      "text/plain": [
       "<matplotlib.figure.Figure at 0x1db211b37b8>"
      ]
     },
     "metadata": {},
     "output_type": "display_data"
    }
   ],
   "source": [
    "ax = plt.axes()\n",
    "ax.set_title(\"confusion_matrix\")\n",
    "\n",
    "df_cm=pd.DataFrame(confusion_matrix(Y_test, svm_prediction), index = [\"Real 0\", \"Real 1\"], columns = [\"Pred 0\", \"Pred 1\"])\n",
    "plt.figure(figsize = (6,5))\n",
    "sns.heatmap(df_cm,annot=True, ax = ax, square=True, fmt=\"d\",linewidths=.5)\n",
    "plt.show()"
   ]
  },
  {
   "cell_type": "markdown",
   "metadata": {},
   "source": [
    "# Logistic Regression"
   ]
  },
  {
   "cell_type": "code",
   "execution_count": 29,
   "metadata": {},
   "outputs": [
    {
     "name": "stdout",
     "output_type": "stream",
     "text": [
      "[[ -3.99226523e+00   7.54724095e-01  -2.76887727e-01   3.94690625e-03\n",
      "    2.67736318e-01  -1.57044121e+00  -1.36178560e+00   2.43756117e-03\n",
      "   -7.02353828e-01]]\n",
      "0.78548212351\n",
      "0.784649638588 0.0107463215542\n",
      "0.817197848592 0.0140714886736\n",
      "Accuracy of the algorithm:  0.788666666667\n",
      "Precison of the algorithm:  0.579365079365\n",
      "Recall of the algorithm:  0.315561959654\n",
      "F1_Score of the algorithm:  0.408582089552\n",
      "Total number of employees which are likely to leave:  378\n"
     ]
    }
   ],
   "source": [
    "#target = X_train[\"left\"].values\n",
    "\n",
    "features_one = X_train[[\"satisfaction_level\", \"last_evaluation\", \"number_projects\", \"average_monthly_hours\",\"time_spent_company\",\"work_accident\",\"promotion_last_5_years\",\"department\",\"salary\"]].values\n",
    "num_folds = 10\n",
    "num_instances = X_train.shape[0] \n",
    "seed=7\n",
    "scoring1 = 'accuracy'\n",
    "scoring2 = 'roc_auc'\n",
    "kfold = cross_validation.KFold(n=num_instances, n_folds=num_folds, random_state=seed)\n",
    "                               \n",
    "logistic_model = LogisticRegression(solver='newton-cg',n_jobs=-1)\n",
    "logistic_model.fit(features_one, Y_train)\n",
    "# save_classifier = open(\"logistic_model.pickle\",\"wb\")\n",
    "# pickle.dump(logistic_model, save_classifier)\n",
    "# save_classifier.close()\n",
    "\n",
    "# Print the Models Coefficients\n",
    "print(logistic_model.coef_)\n",
    "\n",
    "# Print normal score\n",
    "print(logistic_model.score(features_one, Y_train))\n",
    "\n",
    "results1 = cross_validation.cross_val_score(logistic_model, features_one, Y_train, cv=kfold,scoring=scoring1)\n",
    "\n",
    "#Print cross validation score\n",
    "print(results1.mean(), results1.std())\n",
    "\n",
    "results2 = cross_validation.cross_val_score(logistic_model, features_one, Y_train, cv=kfold,scoring=scoring2)\n",
    "\n",
    "#Print AUC\n",
    "print(results2.mean(), results2.std())\n",
    "\n",
    "# Extract the features from the test set:\n",
    "test_features = X_test[[\"satisfaction_level\", \"last_evaluation\", \"number_projects\", \"average_monthly_hours\",\"time_spent_company\",\"work_accident\",\"promotion_last_5_years\",\"department\",\"salary\"]].values\n",
    "# Make your prediction using the test set:\n",
    "lg_prediction = logistic_model.predict(test_features)\n",
    "\n",
    "acc = accuracy_score(Y_test, lg_prediction)\n",
    "precision = precision_score(Y_test,lg_prediction)\n",
    "recall = recall_score(Y_test, lg_prediction)\n",
    "f1score = f1_score(Y_test, lg_prediction)\n",
    "print(\"Accuracy of the algorithm: \", acc)\n",
    "print(\"Precison of the algorithm: \", precision)\n",
    "print(\"Recall of the algorithm: \", recall)\n",
    "print(\"F1_Score of the algorithm: \", f1score)\n",
    "print(\"Total number of employees which are likely to leave: \", sum(lg_prediction))\n",
    "\n",
    "#print(logistic_model.feature_importances_)"
   ]
  },
  {
   "cell_type": "code",
   "execution_count": 30,
   "metadata": {},
   "outputs": [
    {
     "data": {
      "image/png": "[encoded data removed]",
      "text/plain": [
       "<matplotlib.figure.Figure at 0x1db21157828>"
      ]
     },
     "metadata": {},
     "output_type": "display_data"
    },
    {
     "data": {
      "text/plain": [
       "<matplotlib.figure.Figure at 0x1db21348a90>"
      ]
     },
     "metadata": {},
     "output_type": "display_data"
    }
   ],
   "source": [
    "ax = plt.axes()\n",
    "ax.set_title(\"confusion_matrix\")\n",
    "\n",
    "df_cm=pd.DataFrame(confusion_matrix(Y_test, lg_prediction), index = [\"Real 0\", \"Real 1\"], columns = [\"Pred 0\", \"Pred 1\"])\n",
    "plt.figure(figsize = (6,5))\n",
    "sns.heatmap(df_cm,annot=True, ax = ax, square=True, fmt=\"d\",linewidths=.5)\n",
    "plt.show()"
   ]
  },
  {
   "cell_type": "markdown",
   "metadata": {},
   "source": [
    "# Decision Tree Classifier"
   ]
  },
  {
   "cell_type": "code",
   "execution_count": 31,
   "metadata": {},
   "outputs": [
    {
     "name": "stdout",
     "output_type": "stream",
     "text": [
      "1.0\n",
      "0.978248123436 0.00312850903169\n",
      "0.975572930759 0.00524355992256\n",
      "Accuracy of the algorithm:  0.978333333333\n",
      "Precison of the algorithm:  0.936199722607\n",
      "Recall of the algorithm:  0.972622478386\n",
      "F1_Score of the algorithm:  0.95406360424\n",
      "Total number of employees which are likely to leave:  721\n",
      "[  4.89956198e-01   1.50784882e-01   1.03469628e-01   9.77820779e-02\n",
      "   1.46615741e-01   2.16682080e-03   3.28244688e-04   3.66782026e-03\n",
      "   5.22858787e-03]\n"
     ]
    }
   ],
   "source": [
    "# Using Decision Trees\n",
    "\n",
    "features_one = X_train[[\"satisfaction_level\", \"last_evaluation\", \"number_projects\", \"average_monthly_hours\",\"time_spent_company\",\"work_accident\",\"promotion_last_5_years\",\"department\",\"salary\"]].values\n",
    "num_folds = 10\n",
    "num_instances = X_train.shape[0] \n",
    "seed=7\n",
    "scoring1 = 'accuracy'\n",
    "scoring2 = 'roc_auc'\n",
    "kfold = cross_validation.KFold(n=num_instances, n_folds=num_folds, random_state=seed)\n",
    " #decision tree performs well with \"satisfaction_level\", \"last_evaluation\", \"number_projects\", \"average_monthly_hours\",\"time_spent_company\"                              \n",
    "decision_tree = DecisionTreeClassifier()\n",
    "decision_tree.fit(features_one, Y_train)\n",
    "# save_classifier = open(\"decision_tree.pickle\",\"wb\")\n",
    "# pickle.dump(decision_tree, save_classifier)\n",
    "# save_classifier.close()\n",
    "\n",
    "# Print normal score\n",
    "print(decision_tree.score(features_one, Y_train))\n",
    "\n",
    "results1 = cross_validation.cross_val_score(decision_tree, features_one, Y_train, cv=kfold,scoring=scoring1)\n",
    "\n",
    "#Print cross validation score\n",
    "print(results1.mean(), results1.std())\n",
    "\n",
    "results2 = cross_validation.cross_val_score(decision_tree, features_one, Y_train, cv=kfold,scoring=scoring2)\n",
    "\n",
    "#Print AUC\n",
    "print(results2.mean(), results2.std())\n",
    "\n",
    "# Extract the features from the test set:\n",
    "test_features = X_test[[\"satisfaction_level\", \"last_evaluation\", \"number_projects\", \"average_monthly_hours\",\"time_spent_company\",\"work_accident\",\"promotion_last_5_years\",\"department\",\"salary\"]].values\n",
    "# Make your prediction using the test set:\n",
    "dt_prediction = decision_tree.predict(test_features)\n",
    "\n",
    "acc = accuracy_score(Y_test, dt_prediction)\n",
    "precision = precision_score(Y_test, dt_prediction)\n",
    "recall = recall_score(Y_test, dt_prediction)\n",
    "f1score = f1_score(Y_test, dt_prediction)\n",
    "print(\"Accuracy of the algorithm: \", acc)\n",
    "print(\"Precison of the algorithm: \", precision)\n",
    "print(\"Recall of the algorithm: \", recall)\n",
    "print(\"F1_Score of the algorithm: \", f1score)\n",
    "print(\"Total number of employees which are likely to leave: \", sum(dt_prediction))\n",
    "\n",
    "print(decision_tree.feature_importances_ )"
   ]
  },
  {
   "cell_type": "code",
   "execution_count": 32,
   "metadata": {},
   "outputs": [
    {
     "data": {
      "image/png": "[encoded data removed]",
      "text/plain": [
       "<matplotlib.figure.Figure at 0x1db2138f748>"
      ]
     },
     "metadata": {},
     "output_type": "display_data"
    },
    {
     "data": {
      "text/plain": [
       "<matplotlib.figure.Figure at 0x1db21325f98>"
      ]
     },
     "metadata": {},
     "output_type": "display_data"
    }
   ],
   "source": [
    "ax = plt.axes()\n",
    "ax.set_title(\"confusion_matrix\")\n",
    "\n",
    "df_cm=pd.DataFrame(confusion_matrix(Y_test, dt_prediction), index = [\"Real 0\", \"Real 1\"], columns = [\"Pred 0\", \"Pred 1\"])\n",
    "plt.figure(figsize = (6,5))\n",
    "sns.heatmap(df_cm,annot=True, ax = ax, square=True, fmt=\"d\",linewidths=.5)\n",
    "plt.show()"
   ]
  },
  {
   "cell_type": "markdown",
   "metadata": {},
   "source": [
    "# Random Forest"
   ]
  },
  {
   "cell_type": "code",
   "execution_count": 33,
   "metadata": {},
   "outputs": [
    {
     "name": "stdout",
     "output_type": "stream",
     "text": [
      "0.985582131844\n",
      "0.980582082291 0.00465430707209\n",
      "0.992462504649 0.00409228902068\n",
      "Accuracy of the algorithm:  0.986333333333\n",
      "Precison of the algorithm:  0.993948562784\n",
      "Recall of the algorithm:  0.946685878963\n",
      "F1_Score of the algorithm:  0.969741697417\n",
      "Total number of employees which are likely to leave:  661\n",
      "[ 0.33523165  0.1179957   0.1936789   0.14309664  0.19414823  0.00577633\n",
      "  0.00079891  0.0024411   0.00683253]\n"
     ]
    }
   ],
   "source": [
    "# Using Random Forest\n",
    "\n",
    "features_one = X_train[[\"satisfaction_level\", \"last_evaluation\", \"number_projects\", \"average_monthly_hours\",\"time_spent_company\",\"work_accident\",\"promotion_last_5_years\",\"department\",\"salary\"]].values\n",
    "num_folds = 10\n",
    "num_instances = X_train.shape[0] \n",
    "seed=7\n",
    "scoring1 = 'accuracy'\n",
    "scoring2 = 'roc_auc'\n",
    "kfold = cross_validation.KFold(n=num_instances, n_folds=num_folds, random_state=seed)\n",
    "                               \n",
    "forest = RandomForestClassifier(max_depth = 10, min_samples_split=2, n_estimators = 100, random_state = 1)\n",
    "forest.fit(features_one, Y_train)\n",
    "# save_classifier = open(\"random_forest.pickle\",\"wb\")\n",
    "# pickle.dump(forest, save_classifier)\n",
    "# save_classifier.close()\n",
    "\n",
    "\n",
    "# Print normal score\n",
    "print(forest.score(features_one, Y_train))\n",
    "\n",
    "results1 = cross_validation.cross_val_score(forest, features_one, Y_train, cv=kfold,scoring=scoring1)\n",
    "\n",
    "#Print cross validation score\n",
    "print(results1.mean(), results1.std())\n",
    "\n",
    "results2 = cross_validation.cross_val_score(forest, features_one, Y_train, cv=kfold,scoring=scoring2)\n",
    "\n",
    "#Print AUC\n",
    "print(results2.mean(), results2.std())\n",
    "\n",
    "# Extract the features from the test set:\n",
    "test_features = X_test[[\"satisfaction_level\", \"last_evaluation\", \"number_projects\", \"average_monthly_hours\",\"time_spent_company\",\"work_accident\",\"promotion_last_5_years\",\"department\",\"salary\"]].values\n",
    "# Make your prediction using the test set:\n",
    "forest_prediction = forest.predict(test_features)\n",
    "\n",
    "acc = accuracy_score(Y_test, forest_prediction)\n",
    "precision = precision_score(Y_test, forest_prediction)\n",
    "recall = recall_score(Y_test, forest_prediction)\n",
    "f1score = f1_score(Y_test, forest_prediction)\n",
    "print(\"Accuracy of the algorithm: \", acc)\n",
    "print(\"Precison of the algorithm: \", precision)\n",
    "print(\"Recall of the algorithm: \", recall)\n",
    "print(\"F1_Score of the algorithm: \", f1score)\n",
    "print(\"Total number of employees which are likely to leave: \", sum(forest_prediction))\n",
    "\n",
    "print(forest.feature_importances_)"
   ]
  },
  {
   "cell_type": "code",
   "execution_count": 34,
   "metadata": {},
   "outputs": [
    {
     "data": {
      "image/png": "[encoded data removed]",
      "text/plain": [
       "<matplotlib.figure.Figure at 0x1db214915c0>"
      ]
     },
     "metadata": {},
     "output_type": "display_data"
    },
    {
     "data": {
      "text/plain": [
       "<matplotlib.figure.Figure at 0x1db213eea20>"
      ]
     },
     "metadata": {},
     "output_type": "display_data"
    }
   ],
   "source": [
    "ax = plt.axes()\n",
    "ax.set_title(\"confusion_matrix\")\n",
    "\n",
    "df_cm=pd.DataFrame(confusion_matrix(Y_test, forest_prediction), index = [\"Real 0\", \"Real 1\"], columns = [\"Pred 0\", \"Pred 1\"])\n",
    "plt.figure(figsize = (6,5))\n",
    "sns.heatmap(df_cm,annot=True, ax = ax, square=True, fmt=\"d\",linewidths=.5)\n",
    "plt.show()"
   ]
  },
  {
   "cell_type": "markdown",
   "metadata": {},
   "source": [
    "# Adaboost Classifier"
   ]
  },
  {
   "cell_type": "code",
   "execution_count": 35,
   "metadata": {},
   "outputs": [
    {
     "name": "stdout",
     "output_type": "stream",
     "text": [
      "0.961496791399\n",
      "[ 0.9575      0.96        0.95583333  0.95833333  0.95666667  0.955\n",
      "  0.95833333  0.96583333  0.96916667  0.96330275]\n",
      "0.959996941896 0.00440728275161\n",
      "0.981512599501 0.00464656056399\n",
      "Accuracy of the algorithm:  0.958333333333\n",
      "Precison of the algorithm:  0.897902097902\n",
      "Recall of the algorithm:  0.92507204611\n",
      "F1_Score of the algorithm:  0.911284599006\n",
      "Total number of employees which are likely to leave:  715\n",
      "[ 0.27  0.28  0.06  0.24  0.07  0.03  0.01  0.    0.04]\n"
     ]
    }
   ],
   "source": [
    "#Using Adaboost Classifier\n",
    "\n",
    "features_one = X_train[[\"satisfaction_level\", \"last_evaluation\", \"number_projects\", \"average_monthly_hours\",\"time_spent_company\",\"work_accident\",\"promotion_last_5_years\",\"department\",\"salary\"]].values\n",
    "num_folds = 10\n",
    "num_instances = X_train.shape[0] \n",
    "seed=7\n",
    "scoring1 = 'accuracy'\n",
    "scoring2 = 'roc_auc'\n",
    "kfold = cross_validation.KFold(n=num_instances, n_folds=num_folds, random_state=seed)\n",
    "                               \n",
    "ada = AdaBoostClassifier(n_estimators = 100,learning_rate=1.5)\n",
    "ada.fit(features_one, Y_train)\n",
    "# save_classifier = open(\"adaboost.pickle\",\"wb\")\n",
    "# pickle.dump(ada, save_classifier)\n",
    "# save_classifier.close()\n",
    "\n",
    "\n",
    "# Print normal score\n",
    "print(ada.score(features_one, Y_train))\n",
    "\n",
    "results1 = cross_validation.cross_val_score(ada, features_one, Y_train , cv=kfold , scoring=scoring1)\n",
    "print(results1)\n",
    "#Print cross validation score\n",
    "print(results1.mean(), results1.std())\n",
    "\n",
    "results2 = cross_validation.cross_val_score(ada, features_one, Y_train, cv=kfold,scoring=scoring2)\n",
    "\n",
    "#Print AUC\n",
    "print(results2.mean(), results2.std())\n",
    "\n",
    "# Extract the features from the test set:\n",
    "test_features = X_test[[\"satisfaction_level\", \"last_evaluation\", \"number_projects\", \"average_monthly_hours\",\"time_spent_company\",\"work_accident\",\"promotion_last_5_years\",\"department\",\"salary\"]].values\n",
    "# Make your prediction using the test set:\n",
    "ada_prediction = ada.predict(test_features)\n",
    "\n",
    "acc = accuracy_score(Y_test, ada_prediction)\n",
    "precision = precision_score(Y_test, ada_prediction)\n",
    "recall = recall_score(Y_test, ada_prediction)\n",
    "f1score = f1_score(Y_test, ada_prediction)\n",
    "print(\"Accuracy of the algorithm: \", acc)\n",
    "print(\"Precison of the algorithm: \", precision)\n",
    "print(\"Recall of the algorithm: \", recall)\n",
    "print(\"F1_Score of the algorithm: \", f1score)\n",
    "print(\"Total number of employees which are likely to leave: \", sum(ada_prediction))\n",
    "\n",
    "print(ada.feature_importances_)"
   ]
  },
  {
   "cell_type": "code",
   "execution_count": 36,
   "metadata": {},
   "outputs": [
    {
     "data": {
      "image/png": "[encoded data removed]",
      "text/plain": [
       "<matplotlib.figure.Figure at 0x1db21446320>"
      ]
     },
     "metadata": {},
     "output_type": "display_data"
    },
    {
     "data": {
      "text/plain": [
       "<matplotlib.figure.Figure at 0x1db214fa710>"
      ]
     },
     "metadata": {},
     "output_type": "display_data"
    }
   ],
   "source": [
    "ax = plt.axes()\n",
    "ax.set_title(\"confusion_matrix\")\n",
    "\n",
    "df_cm=pd.DataFrame(confusion_matrix(Y_test, ada_prediction), index = [\"Real 0\", \"Real 1\"], columns = [\"Pred 0\", \"Pred 1\"])\n",
    "plt.figure(figsize = (6,5))\n",
    "sns.heatmap(df_cm,annot=True, ax = ax, square=True, fmt=\"d\",linewidths=.5)\n",
    "plt.show()"
   ]
  },
  {
   "cell_type": "markdown",
   "metadata": {},
   "source": [
    "Therefore we can canclude that Random Forest and AdaBoost Algorithms performs well................."
   ]
  },
  {
   "cell_type": "markdown",
   "metadata": {},
   "source": [
    "# 1. Feature Selection For Random Forest\n",
    "    Parameters Removed : \n",
    "    * promotion_last_5years\n",
    "    * work_accident\n",
    "    * salary\n",
    "    * department"
   ]
  },
  {
   "cell_type": "markdown",
   "metadata": {},
   "source": [
    "# Final Model Using [Random Forest]\n",
    "\n",
    "    Parameters Used : \n",
    "    * satisfaction_level\n",
    "    * Last_evaluation                                                                                            \n",
    "    * Number_project\n",
    "    * Average_monthly_hours\n",
    "    * time_spend_company"
   ]
  },
  {
   "cell_type": "code",
   "execution_count": 37,
   "metadata": {},
   "outputs": [
    {
     "name": "stdout",
     "output_type": "stream",
     "text": [
      "0.986082173514\n",
      "0.981332082291 0.00434827626085\n",
      "0.99234603421 0.00421636520084\n",
      "Accuracy of the algorithm:  0.986333333333\n",
      "Precison of the algorithm:  0.99245852187\n",
      "Recall of the algorithm:  0.948126801153\n",
      "F1_Score of the algorithm:  0.969786293294\n",
      "Total number of employees which are likely to leave:  663\n",
      "[ 0.337759    0.11769339  0.19143987  0.14634088  0.20086925  0.00589761]\n"
     ]
    }
   ],
   "source": [
    "# Using Random Forest with updated features.\n",
    "\n",
    "features_one = X_train[[\"satisfaction_level\", \"last_evaluation\", \"number_projects\", \"average_monthly_hours\",\"time_spent_company\",\"salary\"]].values\n",
    "num_folds = 10\n",
    "num_instances = X_train.shape[0] \n",
    "seed=7\n",
    "scoring1 = 'accuracy'\n",
    "scoring2 = 'roc_auc'\n",
    "kfold = cross_validation.KFold(n=num_instances, n_folds=num_folds, random_state=seed)\n",
    "                               \n",
    "forest1 = RandomForestClassifier(max_depth = 10, min_samples_split=2, n_estimators = 100, random_state = 1)\n",
    "forest1.fit(features_one, Y_train)\n",
    "# save_classifier = open(\"random_forest_updated.pickle\",\"wb\")\n",
    "# pickle.dump(forest1, save_classifier)\n",
    "# save_classifier.close()\n",
    "\n",
    "\n",
    "# Print normal score\n",
    "print(forest1.score(features_one, Y_train))\n",
    "\n",
    "results1 = cross_validation.cross_val_score(forest1, features_one, Y_train, cv=kfold,scoring=scoring1)\n",
    "\n",
    "#Print cross validation score\n",
    "print(results1.mean(), results1.std())\n",
    "\n",
    "results2 = cross_validation.cross_val_score(forest1, features_one, Y_train, cv=kfold,scoring=scoring2)\n",
    "\n",
    "#Print AUC\n",
    "print(results2.mean(), results2.std())\n",
    "\n",
    "# Extract the features from the test set:\n",
    "test_features = X_test[[\"satisfaction_level\", \"last_evaluation\", \"number_projects\", \"average_monthly_hours\",\"time_spent_company\",\"salary\"]].values\n",
    "# Make your prediction using the test set:\n",
    "forest1_prediction = forest1.predict(test_features)\n",
    "\n",
    "acc = accuracy_score(Y_test, forest1_prediction)\n",
    "precision = precision_score(Y_test, forest1_prediction)\n",
    "recall = recall_score(Y_test, forest1_prediction)\n",
    "f1score = f1_score(Y_test, forest1_prediction)\n",
    "print(\"Accuracy of the algorithm: \", acc)\n",
    "print(\"Precison of the algorithm: \", precision)\n",
    "print(\"Recall of the algorithm: \", recall)\n",
    "print(\"F1_Score of the algorithm: \", f1score)\n",
    "print(\"Total number of employees which are likely to leave: \", sum(forest1_prediction))\n",
    "\n",
    "print(forest1.feature_importances_)"
   ]
  },
  {
   "cell_type": "code",
   "execution_count": 38,
   "metadata": {},
   "outputs": [
    {
     "data": {
      "image/png": "[encoded data removed]",
      "text/plain": [
       "<matplotlib.figure.Figure at 0x1db21293a58>"
      ]
     },
     "metadata": {},
     "output_type": "display_data"
    },
    {
     "data": {
      "text/plain": [
       "<matplotlib.figure.Figure at 0x1db2a53af98>"
      ]
     },
     "metadata": {},
     "output_type": "display_data"
    }
   ],
   "source": [
    "ax = plt.axes()\n",
    "ax.set_title(\"confusion_matrix\")\n",
    "\n",
    "df_cm=pd.DataFrame(confusion_matrix(Y_test, forest1_prediction), index = [\"Real 0\", \"Real 1\"], columns = [\"Pred 0\", \"Pred 1\"])\n",
    "plt.figure(figsize = (6,5))\n",
    "sns.heatmap(df_cm,annot=True, ax = ax, square=True, fmt=\"d\",linewidths=.5)\n",
    "plt.show()"
   ]
  },
  {
   "cell_type": "markdown",
   "metadata": {},
   "source": [
    "# 2. Feature Selection For AdaBoost\n",
    "    Parameters Removed : \n",
    "    * promotion_last_5years\n",
    "    * work_accident\n",
    "    * department"
   ]
  },
  {
   "cell_type": "markdown",
   "metadata": {},
   "source": [
    "# Final Model Using [AdaBoost ]\n",
    "\n",
    "    Parameters Used : \n",
    "    * satisfaction_level\n",
    "    * Last_evaluation                                                                                            \n",
    "    * Number_project\n",
    "    * Average_monthly_hours\n",
    "    * time_spend_company\n",
    "    * salary"
   ]
  },
  {
   "cell_type": "code",
   "execution_count": 39,
   "metadata": {},
   "outputs": [
    {
     "name": "stdout",
     "output_type": "stream",
     "text": [
      "0.960496708059\n",
      "[ 0.96416667  0.95916667  0.95833333  0.95916667  0.96166667  0.9525\n",
      "  0.95833333  0.96166667  0.96583333  0.9616347 ]\n",
      "0.960246802891 0.00349574029149\n",
      "0.9792986342 0.00502854955973\n",
      "Accuracy of the algorithm:  0.958333333333\n",
      "Precison of the algorithm:  0.904694167852\n",
      "Recall of the algorithm:  0.916426512968\n",
      "F1_Score of the algorithm:  0.910522548318\n",
      "Total number of employees which are likely to leave:  703\n",
      "[ 0.27  0.28  0.11  0.27  0.07]\n"
     ]
    }
   ],
   "source": [
    "#Using Adaboost Classifier with updated features...\n",
    "\n",
    "features_one = X_train[[\"satisfaction_level\", \"last_evaluation\", \"number_projects\", \"average_monthly_hours\",\"time_spent_company\"]].values\n",
    "num_folds = 10\n",
    "num_instances = X_train.shape[0] \n",
    "seed=7\n",
    "scoring1 = 'accuracy'\n",
    "scoring2 = 'roc_auc'\n",
    "kfold = cross_validation.KFold(n=num_instances, n_folds=num_folds, random_state=seed)\n",
    "                               \n",
    "ada1 = AdaBoostClassifier(n_estimators = 100,learning_rate=1.5)\n",
    "ada1.fit(features_one, Y_train)\n",
    "# save_classifier = open(\"adaboost_updated.pickle\",\"wb\")\n",
    "# pickle.dump(ada1, save_classifier)\n",
    "# save_classifier.close()\n",
    "\n",
    "\n",
    "# Print normal score\n",
    "print(ada1.score(features_one, Y_train))\n",
    "\n",
    "results1 = cross_validation.cross_val_score(ada1, features_one, Y_train , cv=kfold , scoring=scoring1)\n",
    "print(results1)\n",
    "#Print cross validation score\n",
    "print(results1.mean(), results1.std())\n",
    "\n",
    "results2 = cross_validation.cross_val_score(ada1, features_one, Y_train, cv=kfold,scoring=scoring2)\n",
    "\n",
    "#Print AUC\n",
    "print(results2.mean(), results2.std())\n",
    "\n",
    "# Extract the features from the test set:\n",
    "test_features = X_test[[\"satisfaction_level\", \"last_evaluation\", \"number_projects\", \"average_monthly_hours\",\"time_spent_company\"]].values\n",
    "# Make your prediction using the test set:\n",
    "ada1_prediction = ada1.predict(test_features)\n",
    "\n",
    "acc = accuracy_score(Y_test, ada1_prediction)\n",
    "precision = precision_score(Y_test, ada1_prediction)\n",
    "recall = recall_score(Y_test, ada1_prediction)\n",
    "f1score = f1_score(Y_test, ada1_prediction)\n",
    "print(\"Accuracy of the algorithm: \", acc)\n",
    "print(\"Precison of the algorithm: \", precision)\n",
    "print(\"Recall of the algorithm: \", recall)\n",
    "print(\"F1_Score of the algorithm: \", f1score)\n",
    "print(\"Total number of employees which are likely to leave: \", sum(ada1_prediction))\n",
    "\n",
    "print(ada1.feature_importances_)"
   ]
  },
  {
   "cell_type": "code",
   "execution_count": 40,
   "metadata": {},
   "outputs": [
    {
     "data": {
      "image/png": "[encoded data removed]",
      "text/plain": [
       "<matplotlib.figure.Figure at 0x1db2a6afba8>"
      ]
     },
     "metadata": {},
     "output_type": "display_data"
    },
    {
     "data": {
      "text/plain": [
       "<matplotlib.figure.Figure at 0x1db2a698da0>"
      ]
     },
     "metadata": {},
     "output_type": "display_data"
    }
   ],
   "source": [
    "ax = plt.axes()\n",
    "ax.set_title(\"confusion_matrix\")\n",
    "\n",
    "df_cm=pd.DataFrame(confusion_matrix(Y_test, ada1_prediction), index = [\"Real 0\", \"Real 1\"], columns = [\"Pred 0\", \"Pred 1\"])\n",
    "plt.figure(figsize = (6,5))\n",
    "sns.heatmap(df_cm,annot=True, ax = ax, square=True, fmt=\"d\",linewidths=.5)\n",
    "plt.show()"
   ]
  },
  {
   "cell_type": "code",
   "execution_count": null,
   "metadata": {},
   "outputs": [],
   "source": []
  }
 ],
 "metadata": {
  "kernelspec": {
   "display_name": "Python 3",
   "language": "python",
   "name": "python3"
  },
  "language_info": {
   "codemirror_mode": {
    "name": "ipython",
    "version": 3
   },
   "file_extension": ".py",
   "mimetype": "text/x-python",
   "name": "python",
   "nbconvert_exporter": "python",
   "pygments_lexer": "ipython3",
   "version": "3.6.1"
  }
 },
 "nbformat": 4,
 "nbformat_minor": 2
}
