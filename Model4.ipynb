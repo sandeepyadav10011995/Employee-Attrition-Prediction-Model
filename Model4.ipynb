{
 "cells": [
  {
   "cell_type": "code",
   "execution_count": 1,
   "metadata": {},
   "outputs": [
    {
     "name": "stderr",
     "output_type": "stream",
     "text": [
      "C:\\Users\\SANDEEP YADAV\\Anaconda3\\lib\\site-packages\\sklearn\\cross_validation.py:44: DeprecationWarning: This module was deprecated in version 0.18 in favor of the model_selection module into which all the refactored classes and functions are moved. Also note that the interface of the new CV iterators are different from that of this module. This module will be removed in 0.20.\n",
      "  \"This module will be removed in 0.20.\", DeprecationWarning)\n"
     ]
    }
   ],
   "source": [
    "import pickle\n",
    "import numpy as np\n",
    "import pandas as pd\n",
    "import seaborn as sns\n",
    "import matplotlib.pyplot as plt\n",
    "%matplotlib inline\n",
    "from sklearn import preprocessing, cross_validation, svm\n",
    "from sklearn.linear_model import LogisticRegression\n",
    "from sklearn.tree import DecisionTreeClassifier\n",
    "from sklearn.ensemble import AdaBoostClassifier\n",
    "from sklearn.model_selection import train_test_split\n",
    "from sklearn.ensemble import RandomForestClassifier, GradientBoostingClassifier\n",
    "from sklearn.metrics import accuracy_score, confusion_matrix,precision_score,recall_score,f1_score\n",
    "import warnings\n",
    "warnings.filterwarnings('ignore')"
   ]
  },
  {
   "cell_type": "code",
   "execution_count": 2,
   "metadata": {},
   "outputs": [
    {
     "data": {
      "text/html": [
       "<div>\n",
       "<style>\n",
       "    .dataframe thead tr:only-child th {\n",
       "        text-align: right;\n",
       "    }\n",
       "\n",
       "    .dataframe thead th {\n",
       "        text-align: left;\n",
       "    }\n",
       "\n",
       "    .dataframe tbody tr th {\n",
       "        vertical-align: top;\n",
       "    }\n",
       "</style>\n",
       "<table border=\"1\" class=\"dataframe\">\n",
       "  <thead>\n",
       "    <tr style=\"text-align: right;\">\n",
       "      <th></th>\n",
       "      <th>satisfaction_level</th>\n",
       "      <th>last_evaluation</th>\n",
       "      <th>number_projects</th>\n",
       "      <th>average_monthly_hours</th>\n",
       "      <th>time_spent_company</th>\n",
       "      <th>work_accident</th>\n",
       "      <th>left</th>\n",
       "      <th>promotion_last_5_years</th>\n",
       "      <th>department</th>\n",
       "      <th>salary</th>\n",
       "    </tr>\n",
       "  </thead>\n",
       "  <tbody>\n",
       "    <tr>\n",
       "      <th>10393</th>\n",
       "      <td>0.83</td>\n",
       "      <td>0.77</td>\n",
       "      <td>3</td>\n",
       "      <td>260</td>\n",
       "      <td>2</td>\n",
       "      <td>0</td>\n",
       "      <td>0</td>\n",
       "      <td>0</td>\n",
       "      <td>0</td>\n",
       "      <td>1</td>\n",
       "    </tr>\n",
       "    <tr>\n",
       "      <th>7821</th>\n",
       "      <td>0.42</td>\n",
       "      <td>0.41</td>\n",
       "      <td>5</td>\n",
       "      <td>240</td>\n",
       "      <td>2</td>\n",
       "      <td>0</td>\n",
       "      <td>0</td>\n",
       "      <td>0</td>\n",
       "      <td>1</td>\n",
       "      <td>1</td>\n",
       "    </tr>\n",
       "    <tr>\n",
       "      <th>10725</th>\n",
       "      <td>0.52</td>\n",
       "      <td>0.55</td>\n",
       "      <td>3</td>\n",
       "      <td>225</td>\n",
       "      <td>2</td>\n",
       "      <td>0</td>\n",
       "      <td>0</td>\n",
       "      <td>0</td>\n",
       "      <td>1</td>\n",
       "      <td>0</td>\n",
       "    </tr>\n",
       "    <tr>\n",
       "      <th>3194</th>\n",
       "      <td>0.57</td>\n",
       "      <td>0.65</td>\n",
       "      <td>5</td>\n",
       "      <td>177</td>\n",
       "      <td>2</td>\n",
       "      <td>0</td>\n",
       "      <td>0</td>\n",
       "      <td>0</td>\n",
       "      <td>1</td>\n",
       "      <td>2</td>\n",
       "    </tr>\n",
       "    <tr>\n",
       "      <th>1601</th>\n",
       "      <td>0.68</td>\n",
       "      <td>0.62</td>\n",
       "      <td>5</td>\n",
       "      <td>198</td>\n",
       "      <td>5</td>\n",
       "      <td>1</td>\n",
       "      <td>1</td>\n",
       "      <td>0</td>\n",
       "      <td>1</td>\n",
       "      <td>0</td>\n",
       "    </tr>\n",
       "  </tbody>\n",
       "</table>\n",
       "</div>"
      ],
      "text/plain": [
       "       satisfaction_level  last_evaluation  number_projects  \\\n",
       "10393                0.83             0.77                3   \n",
       "7821                 0.42             0.41                5   \n",
       "10725                0.52             0.55                3   \n",
       "3194                 0.57             0.65                5   \n",
       "1601                 0.68             0.62                5   \n",
       "\n",
       "       average_monthly_hours  time_spent_company  work_accident  left  \\\n",
       "10393                    260                   2              0     0   \n",
       "7821                     240                   2              0     0   \n",
       "10725                    225                   2              0     0   \n",
       "3194                     177                   2              0     0   \n",
       "1601                     198                   5              1     1   \n",
       "\n",
       "       promotion_last_5_years department salary  \n",
       "10393                       0          0      1  \n",
       "7821                        0          1      1  \n",
       "10725                       0          1      0  \n",
       "3194                        0          1      2  \n",
       "1601                        0          1      0  "
      ]
     },
     "execution_count": 2,
     "metadata": {},
     "output_type": "execute_result"
    }
   ],
   "source": [
    "pickle_in=open('pickle_data.pickle','rb')\n",
    "data=pickle.load(pickle_in)\n",
    "pickle_in.close()\n",
    "data.head()"
   ]
  },
  {
   "cell_type": "code",
   "execution_count": 3,
   "metadata": {},
   "outputs": [],
   "source": [
    "X = data.loc[:, data.columns != 'left']\n",
    "Y = data.loc[:, data.columns == 'left']\n",
    "X_train, X_test, Y_train, Y_test = cross_validation.train_test_split(X, Y, test_size=0.2, random_state=5)"
   ]
  },
  {
   "cell_type": "code",
   "execution_count": 4,
   "metadata": {},
   "outputs": [
    {
     "name": "stdout",
     "output_type": "stream",
     "text": [
      "left    694\n",
      "dtype: int64\n"
     ]
    }
   ],
   "source": [
    "print(Y_test[Y_test['left']==1].count())"
   ]
  },
  {
   "cell_type": "code",
   "execution_count": 5,
   "metadata": {},
   "outputs": [],
   "source": [
    "classifier_f = open(\"svm_svc.pickle\", \"rb\")\n",
    "svm_SVC = pickle.load(classifier_f)\n",
    "classifier_f.close()"
   ]
  },
  {
   "cell_type": "code",
   "execution_count": 6,
   "metadata": {},
   "outputs": [],
   "source": [
    "classifier_f = open(\"logistic_model.pickle\", \"rb\")\n",
    "logistic_model = pickle.load(classifier_f)\n",
    "classifier_f.close()"
   ]
  },
  {
   "cell_type": "code",
   "execution_count": 7,
   "metadata": {},
   "outputs": [],
   "source": [
    "classifier_f = open(\"decision_tree.pickle\", \"rb\")\n",
    "decision_tree = pickle.load(classifier_f)\n",
    "classifier_f.close()"
   ]
  },
  {
   "cell_type": "code",
   "execution_count": 8,
   "metadata": {},
   "outputs": [],
   "source": [
    "classifier_f = open(\"adaboost.pickle\", \"rb\")\n",
    "adaboost = pickle.load(classifier_f)\n",
    "classifier_f.close()"
   ]
  },
  {
   "cell_type": "code",
   "execution_count": 9,
   "metadata": {},
   "outputs": [],
   "source": [
    "classifier_f = open(\"random_forest.pickle\", \"rb\")\n",
    "random_forest = pickle.load(classifier_f)\n",
    "classifier_f.close()"
   ]
  },
  {
   "cell_type": "code",
   "execution_count": 10,
   "metadata": {},
   "outputs": [],
   "source": [
    "classifier_f = open(\"random_forest_updated.pickle\", \"rb\")\n",
    "random_forest_updated = pickle.load(classifier_f)\n",
    "classifier_f.close()"
   ]
  },
  {
   "cell_type": "code",
   "execution_count": 11,
   "metadata": {},
   "outputs": [],
   "source": [
    "classifier_f = open(\"adaboost_updated.pickle\", \"rb\")\n",
    "adaboost_updated = pickle.load(classifier_f)\n",
    "classifier_f.close()"
   ]
  },
  {
   "cell_type": "code",
   "execution_count": 12,
   "metadata": {},
   "outputs": [],
   "source": [
    "test_features = X_test[[\"satisfaction_level\", \"last_evaluation\", \"number_projects\", \"average_monthly_hours\",\"time_spent_company\",\"work_accident\",\"promotion_last_5_years\",\"department\",\"salary\"]].values"
   ]
  },
  {
   "cell_type": "markdown",
   "metadata": {},
   "source": [
    "# SVM.SVC Classifier"
   ]
  },
  {
   "cell_type": "code",
   "execution_count": 13,
   "metadata": {},
   "outputs": [
    {
     "name": "stdout",
     "output_type": "stream",
     "text": [
      "Accuracy of the algorithm:  0.952666666667\n",
      "Precison of the algorithm:  0.876021798365\n",
      "Recall of the algorithm:  0.9265129683\n",
      "F1_Score of the algorithm:  0.90056022409\n",
      "Total number of employees which are likely to leave:  734\n"
     ]
    },
    {
     "data": {
      "image/png": "[encoded data removed]",
      "text/plain": [
       "<matplotlib.figure.Figure at 0x211791372b0>"
      ]
     },
     "metadata": {},
     "output_type": "display_data"
    },
    {
     "data": {
      "text/plain": [
       "<matplotlib.figure.Figure at 0x211791ef470>"
      ]
     },
     "metadata": {},
     "output_type": "display_data"
    }
   ],
   "source": [
    "svm_prediction = svm_SVC.predict(test_features)\n",
    "\n",
    "acc = accuracy_score(Y_test, svm_prediction)\n",
    "precision = precision_score(Y_test, svm_prediction)\n",
    "recall = recall_score(Y_test, svm_prediction)\n",
    "f1score = f1_score(Y_test, svm_prediction)\n",
    "print(\"Accuracy of the algorithm: \", acc)\n",
    "print(\"Precison of the algorithm: \", precision)\n",
    "print(\"Recall of the algorithm: \", recall)\n",
    "print(\"F1_Score of the algorithm: \", f1score)\n",
    "print(\"Total number of employees which are likely to leave: \", sum(svm_prediction))\n",
    "\n",
    "\n",
    "ax = plt.axes()\n",
    "ax.set_title(\"SVM.SVC Classifier\")\n",
    "\n",
    "df_cm=pd.DataFrame(confusion_matrix(Y_test, svm_prediction), index = [\"Real 0\", \"Real 1\"], columns = [\"Pred 0\", \"Pred 1\"])\n",
    "plt.figure(figsize = (6,5))\n",
    "sns.heatmap(df_cm,annot=True, ax = ax, square=True, fmt=\"d\",linewidths=.5)\n",
    "plt.show()"
   ]
  },
  {
   "cell_type": "markdown",
   "metadata": {},
   "source": [
    "# Logistic Regression"
   ]
  },
  {
   "cell_type": "code",
   "execution_count": 14,
   "metadata": {},
   "outputs": [
    {
     "name": "stdout",
     "output_type": "stream",
     "text": [
      "Accuracy of the algorithm:  0.788666666667\n",
      "Precison of the algorithm:  0.579365079365\n",
      "Recall of the algorithm:  0.315561959654\n",
      "F1_Score of the algorithm:  0.408582089552\n",
      "Total number of employees which are likely to leave:  378\n"
     ]
    },
    {
     "data": {
      "image/png": "[encoded data removed]",
      "text/plain": [
       "<matplotlib.figure.Figure at 0x211795db278>"
      ]
     },
     "metadata": {},
     "output_type": "display_data"
    },
    {
     "data": {
      "text/plain": [
       "<matplotlib.figure.Figure at 0x21179660eb8>"
      ]
     },
     "metadata": {},
     "output_type": "display_data"
    }
   ],
   "source": [
    "lg_prediction = logistic_model.predict(test_features)\n",
    "\n",
    "acc = accuracy_score(Y_test, lg_prediction)\n",
    "precision = precision_score(Y_test,lg_prediction)\n",
    "recall = recall_score(Y_test, lg_prediction)\n",
    "f1score = f1_score(Y_test, lg_prediction)\n",
    "print(\"Accuracy of the algorithm: \", acc)\n",
    "print(\"Precison of the algorithm: \", precision)\n",
    "print(\"Recall of the algorithm: \", recall)\n",
    "print(\"F1_Score of the algorithm: \", f1score)\n",
    "print(\"Total number of employees which are likely to leave: \", sum(lg_prediction))\n",
    "\n",
    "ax = plt.axes()\n",
    "ax.set_title(\"Logistic Regression\")\n",
    "\n",
    "df_cm=pd.DataFrame(confusion_matrix(Y_test, lg_prediction), index = [\"Real 0\", \"Real 1\"], columns = [\"Pred 0\", \"Pred 1\"])\n",
    "plt.figure(figsize = (6,5))\n",
    "sns.heatmap(df_cm,annot=True, ax = ax, square=True, fmt=\"d\",linewidths=.5)\n",
    "plt.show()"
   ]
  },
  {
   "cell_type": "markdown",
   "metadata": {},
   "source": [
    "# Decision Tree Classifier"
   ]
  },
  {
   "cell_type": "code",
   "execution_count": 15,
   "metadata": {},
   "outputs": [
    {
     "name": "stdout",
     "output_type": "stream",
     "text": [
      "Accuracy of the algorithm:  0.976666666667\n",
      "Precison of the algorithm:  0.928571428571\n",
      "Recall of the algorithm:  0.974063400576\n",
      "F1_Score of the algorithm:  0.950773558368\n",
      "Total number of employees which are likely to leave:  728\n",
      "[  4.89785469e-01   1.48884429e-01   1.04411644e-01   9.68792017e-02\n",
      "   1.45872776e-01   2.62403017e-03   2.34384400e-05   4.85230056e-03\n",
      "   6.66671133e-03]\n"
     ]
    },
    {
     "data": {
      "image/png": "[encoded data removed]",
      "text/plain": [
       "<matplotlib.figure.Figure at 0x211796f23c8>"
      ]
     },
     "metadata": {},
     "output_type": "display_data"
    },
    {
     "data": {
      "text/plain": [
       "<matplotlib.figure.Figure at 0x2117a73be10>"
      ]
     },
     "metadata": {},
     "output_type": "display_data"
    }
   ],
   "source": [
    "dt_prediction = decision_tree.predict(test_features)\n",
    "\n",
    "acc = accuracy_score(Y_test, dt_prediction)\n",
    "precision = precision_score(Y_test, dt_prediction)\n",
    "recall = recall_score(Y_test, dt_prediction)\n",
    "f1score = f1_score(Y_test, dt_prediction)\n",
    "print(\"Accuracy of the algorithm: \", acc)\n",
    "print(\"Precison of the algorithm: \", precision)\n",
    "print(\"Recall of the algorithm: \", recall)\n",
    "print(\"F1_Score of the algorithm: \", f1score)\n",
    "print(\"Total number of employees which are likely to leave: \", sum(dt_prediction))\n",
    "\n",
    "print(decision_tree.feature_importances_ )\n",
    "\n",
    "\n",
    "\n",
    "ax = plt.axes()\n",
    "ax.set_title(\"Decision Tree Classifier\")\n",
    "\n",
    "df_cm=pd.DataFrame(confusion_matrix(Y_test, dt_prediction), index = [\"Real 0\", \"Real 1\"], columns = [\"Pred 0\", \"Pred 1\"])\n",
    "plt.figure(figsize = (6,5))\n",
    "sns.heatmap(df_cm,annot=True, ax = ax, square=True, fmt=\"d\",linewidths=.5)\n",
    "plt.show()"
   ]
  },
  {
   "cell_type": "markdown",
   "metadata": {},
   "source": [
    "# Random Forest"
   ]
  },
  {
   "cell_type": "code",
   "execution_count": 16,
   "metadata": {},
   "outputs": [
    {
     "name": "stdout",
     "output_type": "stream",
     "text": [
      "Accuracy of the algorithm:  0.986333333333\n",
      "Precison of the algorithm:  0.993948562784\n",
      "Recall of the algorithm:  0.946685878963\n",
      "F1_Score of the algorithm:  0.969741697417\n",
      "Total number of employees which are likely to leave:  661\n",
      "[ 0.33523165  0.1179957   0.1936789   0.14309664  0.19414823  0.00577633\n",
      "  0.00079891  0.0024411   0.00683253]\n"
     ]
    },
    {
     "data": {
      "image/png": "[encoded data removed]",
      "text/plain": [
       "<matplotlib.figure.Figure at 0x211790badd8>"
      ]
     },
     "metadata": {},
     "output_type": "display_data"
    },
    {
     "data": {
      "text/plain": [
       "<matplotlib.figure.Figure at 0x2117963c048>"
      ]
     },
     "metadata": {},
     "output_type": "display_data"
    }
   ],
   "source": [
    "forest_prediction = random_forest.predict(test_features)\n",
    "\n",
    "acc = accuracy_score(Y_test, forest_prediction)\n",
    "precision = precision_score(Y_test, forest_prediction)\n",
    "recall = recall_score(Y_test, forest_prediction)\n",
    "f1score = f1_score(Y_test, forest_prediction)\n",
    "print(\"Accuracy of the algorithm: \", acc)\n",
    "print(\"Precison of the algorithm: \", precision)\n",
    "print(\"Recall of the algorithm: \", recall)\n",
    "print(\"F1_Score of the algorithm: \", f1score)\n",
    "print(\"Total number of employees which are likely to leave: \", sum(forest_prediction))\n",
    "\n",
    "print(random_forest.feature_importances_)\n",
    "\n",
    "ax = plt.axes()\n",
    "ax.set_title(\"Random Forest\")\n",
    "\n",
    "df_cm=pd.DataFrame(confusion_matrix(Y_test, forest_prediction), index = [\"Real 0\", \"Real 1\"], columns = [\"Pred 0\", \"Pred 1\"])\n",
    "plt.figure(figsize = (6,5))\n",
    "sns.heatmap(df_cm,annot=True, ax = ax, square=True, fmt=\"d\",linewidths=.5)\n",
    "plt.show()"
   ]
  },
  {
   "cell_type": "markdown",
   "metadata": {},
   "source": [
    "# Adaboost Classifier"
   ]
  },
  {
   "cell_type": "code",
   "execution_count": 17,
   "metadata": {},
   "outputs": [
    {
     "name": "stdout",
     "output_type": "stream",
     "text": [
      "Accuracy of the algorithm:  0.958333333333\n",
      "Precison of the algorithm:  0.897902097902\n",
      "Recall of the algorithm:  0.92507204611\n",
      "F1_Score of the algorithm:  0.911284599006\n",
      "Total number of employees which are likely to leave:  715\n",
      "[ 0.27  0.28  0.06  0.24  0.07  0.03  0.01  0.    0.04]\n"
     ]
    },
    {
     "data": {
      "image/png": "[encoded data removed]",
      "text/plain": [
       "<matplotlib.figure.Figure at 0x211795b9a20>"
      ]
     },
     "metadata": {},
     "output_type": "display_data"
    },
    {
     "data": {
      "text/plain": [
       "<matplotlib.figure.Figure at 0x21179689f98>"
      ]
     },
     "metadata": {},
     "output_type": "display_data"
    }
   ],
   "source": [
    "ada_prediction = adaboost.predict(test_features)\n",
    "\n",
    "acc = accuracy_score(Y_test, ada_prediction)\n",
    "precision = precision_score(Y_test, ada_prediction)\n",
    "recall = recall_score(Y_test, ada_prediction)\n",
    "f1score = f1_score(Y_test, ada_prediction)\n",
    "print(\"Accuracy of the algorithm: \", acc)\n",
    "print(\"Precison of the algorithm: \", precision)\n",
    "print(\"Recall of the algorithm: \", recall)\n",
    "print(\"F1_Score of the algorithm: \", f1score)\n",
    "print(\"Total number of employees which are likely to leave: \", sum(ada_prediction))\n",
    "\n",
    "print(adaboost.feature_importances_)\n",
    "\n",
    "ax = plt.axes()\n",
    "ax.set_title(\"Adaboost Classifier\")\n",
    "\n",
    "df_cm=pd.DataFrame(confusion_matrix(Y_test, ada_prediction), index = [\"Real 0\", \"Real 1\"], columns = [\"Pred 0\", \"Pred 1\"])\n",
    "plt.figure(figsize = (6,5))\n",
    "sns.heatmap(df_cm,annot=True, ax = ax, square=True, fmt=\"d\",linewidths=.5)\n",
    "plt.show()"
   ]
  },
  {
   "cell_type": "markdown",
   "metadata": {},
   "source": [
    "* Therefore we can canclude that Random Forest and AdaBoost Algorithms performs well................."
   ]
  },
  {
   "cell_type": "markdown",
   "metadata": {},
   "source": [
    "# 1. Feature Selection For Random Forest\n",
    "    Parameters Removed : \n",
    "    * promotion_last_5years\n",
    "    * work_accident\n",
    "    * salary\n",
    "    * department"
   ]
  },
  {
   "cell_type": "markdown",
   "metadata": {},
   "source": [
    "# Final Model Using [Random Forest]\n",
    "\n",
    "    Parameters Used : \n",
    "    * satisfaction_level\n",
    "    * Last_evaluation                                                                                            \n",
    "    * Number_project\n",
    "    * Average_monthly_hours\n",
    "    * time_spend_company"
   ]
  },
  {
   "cell_type": "markdown",
   "metadata": {},
   "source": [
    "* Using Random Forest with updated features."
   ]
  },
  {
   "cell_type": "code",
   "execution_count": 18,
   "metadata": {},
   "outputs": [],
   "source": [
    "test_features_randomf = X_test[[\"satisfaction_level\", \"last_evaluation\", \"number_projects\", \"average_monthly_hours\",\"time_spent_company\",\"salary\"]].values"
   ]
  },
  {
   "cell_type": "code",
   "execution_count": 19,
   "metadata": {},
   "outputs": [
    {
     "name": "stdout",
     "output_type": "stream",
     "text": [
      "Accuracy of the algorithm:  0.986333333333\n",
      "Precison of the algorithm:  0.99245852187\n",
      "Recall of the algorithm:  0.948126801153\n",
      "F1_Score of the algorithm:  0.969786293294\n",
      "Total number of employees which are likely to leave:  663\n",
      "[ 0.337759    0.11769339  0.19143987  0.14634088  0.20086925  0.00589761]\n"
     ]
    },
    {
     "data": {
      "image/png": "[encoded data removed]",
      "text/plain": [
       "<matplotlib.figure.Figure at 0x21179619f28>"
      ]
     },
     "metadata": {},
     "output_type": "display_data"
    },
    {
     "data": {
      "text/plain": [
       "<matplotlib.figure.Figure at 0x2117a84c0b8>"
      ]
     },
     "metadata": {},
     "output_type": "display_data"
    }
   ],
   "source": [
    "forest1_prediction = random_forest_updated.predict(test_features_randomf)\n",
    "\n",
    "acc = accuracy_score(Y_test, forest1_prediction)\n",
    "precision = precision_score(Y_test, forest1_prediction)\n",
    "recall = recall_score(Y_test, forest1_prediction)\n",
    "f1score = f1_score(Y_test, forest1_prediction)\n",
    "print(\"Accuracy of the algorithm: \", acc)\n",
    "print(\"Precison of the algorithm: \", precision)\n",
    "print(\"Recall of the algorithm: \", recall)\n",
    "print(\"F1_Score of the algorithm: \", f1score)\n",
    "print(\"Total number of employees which are likely to leave: \", sum(forest1_prediction))\n",
    "\n",
    "print(random_forest_updated.feature_importances_)\n",
    "\n",
    "ax = plt.axes()\n",
    "ax.set_title(\"Random Forest Final Model\")\n",
    "\n",
    "df_cm=pd.DataFrame(confusion_matrix(Y_test, forest1_prediction), index = [\"Real 0\", \"Real 1\"], columns = [\"Pred 0\", \"Pred 1\"])\n",
    "plt.figure(figsize = (6,5))\n",
    "sns.heatmap(df_cm,annot=True, ax = ax, square=True, fmt=\"d\",linewidths=.5)\n",
    "plt.show()"
   ]
  },
  {
   "cell_type": "markdown",
   "metadata": {},
   "source": [
    "# 2. Feature Selection For AdaBoost\n",
    "    Parameters Removed : \n",
    "    * promotion_last_5years\n",
    "    * work_accident\n",
    "    * department"
   ]
  },
  {
   "cell_type": "markdown",
   "metadata": {},
   "source": [
    "# Final Model Using [AdaBoost ]\n",
    "\n",
    "    Parameters Used : \n",
    "    * satisfaction_level\n",
    "    * Last_evaluation                                                                                            \n",
    "    * Number_project\n",
    "    * Average_monthly_hours\n",
    "    * time_spend_company\n",
    "    * salary"
   ]
  },
  {
   "cell_type": "markdown",
   "metadata": {},
   "source": [
    "* Using Adaboost Classifier with updated features..."
   ]
  },
  {
   "cell_type": "code",
   "execution_count": 20,
   "metadata": {},
   "outputs": [],
   "source": [
    "test_features_adaboost = X_test[[\"satisfaction_level\", \"last_evaluation\", \"number_projects\", \"average_monthly_hours\",\"time_spent_company\"]].values"
   ]
  },
  {
   "cell_type": "code",
   "execution_count": 21,
   "metadata": {},
   "outputs": [
    {
     "name": "stdout",
     "output_type": "stream",
     "text": [
      "Accuracy of the algorithm:  0.958333333333\n",
      "Precison of the algorithm:  0.904694167852\n",
      "Recall of the algorithm:  0.916426512968\n",
      "F1_Score of the algorithm:  0.910522548318\n",
      "Total number of employees which are likely to leave:  703\n",
      "[ 0.27  0.28  0.11  0.27  0.07]\n"
     ]
    },
    {
     "data": {
      "image/png": "[encoded data removed]",
      "text/plain": [
       "<matplotlib.figure.Figure at 0x2117a8bbe10>"
      ]
     },
     "metadata": {},
     "output_type": "display_data"
    },
    {
     "data": {
      "text/plain": [
       "<matplotlib.figure.Figure at 0x2117a94d128>"
      ]
     },
     "metadata": {},
     "output_type": "display_data"
    }
   ],
   "source": [
    "ada1_prediction = adaboost_updated.predict(test_features_adaboost)\n",
    "\n",
    "acc = accuracy_score(Y_test, ada1_prediction)\n",
    "precision = precision_score(Y_test, ada1_prediction)\n",
    "recall = recall_score(Y_test, ada1_prediction)\n",
    "f1score = f1_score(Y_test, ada1_prediction)\n",
    "print(\"Accuracy of the algorithm: \", acc)\n",
    "print(\"Precison of the algorithm: \", precision)\n",
    "print(\"Recall of the algorithm: \", recall)\n",
    "print(\"F1_Score of the algorithm: \", f1score)\n",
    "print(\"Total number of employees which are likely to leave: \", sum(ada1_prediction))\n",
    "\n",
    "print(adaboost_updated.feature_importances_)\n",
    "\n",
    "ax = plt.axes()\n",
    "ax.set_title(\"Adaboost Classifier Final Model\")\n",
    "\n",
    "df_cm=pd.DataFrame(confusion_matrix(Y_test, ada1_prediction), index = [\"Real 0\", \"Real 1\"], columns = [\"Pred 0\", \"Pred 1\"])\n",
    "plt.figure(figsize = (6,5))\n",
    "sns.heatmap(df_cm,annot=True, ax = ax, square=True, fmt=\"d\",linewidths=.5)\n",
    "plt.show()"
   ]
  },
  {
   "cell_type": "code",
   "execution_count": null,
   "metadata": {},
   "outputs": [],
   "source": []
  }
 ],
 "metadata": {
  "kernelspec": {
   "display_name": "Python 3",
   "language": "python",
   "name": "python3"
  },
  "language_info": {
   "codemirror_mode": {
    "name": "ipython",
    "version": 3
   },
   "file_extension": ".py",
   "mimetype": "text/x-python",
   "name": "python",
   "nbconvert_exporter": "python",
   "pygments_lexer": "ipython3",
   "version": "3.6.1"
  }
 },
 "nbformat": 4,
 "nbformat_minor": 2
}
